{
 "cells": [
  {
   "cell_type": "markdown",
   "id": "e13ef2fd",
   "metadata": {},
   "source": [
    "\n",
    "<h1 style=\"text-align: center;\">Analyse des ventes d'une librairie en ligne </h1>\n",
    "\n",
    "\n",
    "<div style=\"text-align: center;\">\n",
    "    <img src=\"data/logo.jpg\" alt=\"Mon logo\" width=\"300\"/>\n",
    "</div>\n",
    "\n",
    "\n",
    "# Rappel de la Mission\n",
    "\n",
    "## I - Contexte\n",
    "Lapage, une grande librairie en ligne issue d'une chaîne physique, souhaite faire le point sur ses ventes en ligne après deux ans d’activité. Cette analyse servira à orienter les décisions stratégiques sur les offres, les prix et la connaissance client.\n",
    "\n",
    "## II- Objectif\n",
    "Analyser les ventes en ligne de Lapage pour identifier des tendances, mieux comprendre les comportements clients et proposer des axes d’amélioration pour la stratégie commerciale et marketing.\n",
    "\n",
    "## III - Méthodologie\n",
    "1. **Collecte et préparation des données** : Importation et préparation des données de ventes et des informations clients.\n",
    "2. **Étude du chiffre d'affaires** : Suivi de l'évolution du chiffre d'affaires dans le temps, analyse des produits les plus populaires (tops/flops) et répartition des ventes par catégorie.\n",
    "3. **Analyse de la concentration des ventes** : Utilisation de la courbe de Lorenz pour évaluer la répartition du chiffre d'affaires entre différents profils clients.\n",
    "4. **Analyse des comportements clients** : Étude des corrélations entre le genre, l'âge des clients, le montant total des achats, la fréquence d'achat et le panier moyen.\n",
    "\n",
    "5. **Recommandations** : Formulation de recommandations stratégiques basées sur les résultats.\n",
    "\n",
    "## VI - Points attendus\n",
    "- **Identification des segments de clientèle** : Compréhension des comportements d’achat selon des indicateurs clés (âge, genre, panier moyen).\n",
    "- **Analyse des produits** : Identification des produits les plus performants et des catégories de livres qui génèrent le plus de ventes.\n",
    "- **Recommandations stratégiques** : Propositions pour cibler les segments clients les plus rentables et optimiser la stratégie commerciale de Lapage.\n"
   ]
  },
  {
   "cell_type": "markdown",
   "id": "a1fa8f45",
   "metadata": {},
   "source": [
    "# Sommaire\n",
    "\n",
    "A. **Importation des librairies**\n",
    "B. **Collecte et Nettoyage des Données**\n",
    "   - Importation des données clients et ventes\n",
    "   - Préparation et préparation des données\n",
    "   - Traitement des valeurs manquantes\n",
    "\n",
    "C. **Étude du Chiffre d'Affaires**\n",
    "   - Indicateurs et graphiques autour du CA\n",
    "   - Suivi de l'évolution du chiffre d'affaires dans le temps\n",
    "   - Analyse des produits les plus populaires (tops/flops)\n",
    "\n",
    "D. **Analyse des Comportements Clients**\n",
    "   - Profilage ( type de client, genre, âge, \n",
    "   - Étude des corrélations : âge, genre, montant total des achats, fréquence d'achat, panier moyen\n",
    "   - Zoom sur les clients b to b \n",
    "   \n",
    "E. **Analyse de la Concentration des Ventes**\n",
    "   - Courbe de Lorenz : répartition du chiffre d'affaires entre différents profils clients  \n",
    "\n",
    "\n",
    "F. **Conclusion**\n",
    "   - Résumé des principaux insights\n",
    "   - Recommandations basées sur les résultats d'analyse"
   ]
  },
  {
   "cell_type": "markdown",
   "id": "0fa438b4",
   "metadata": {},
   "source": [
    "# A- Import des librairies"
   ]
  },
  {
   "cell_type": "code",
   "execution_count": 1,
   "id": "fccacdbe",
   "metadata": {},
   "outputs": [],
   "source": [
    "import pandas as pd\n",
    "import numpy as np\n",
    "from functools import reduce\n",
    "import matplotlib.pyplot as plt\n",
    "import seaborn as sns \n",
    "from scipy.stats import ks_2samp\n",
    "import numpy as np\n",
    "from scipy.stats import shapiro\n",
    "from scipy.stats import anderson\n",
    "from scipy.stats import kstest\n",
    "\n",
    "from sklearn.linear_model import LinearRegression\n",
    "from sklearn.preprocessing import PolynomialFeatures\n",
    "\n",
    "from sklearn.metrics import mean_squared_error\n",
    "import math\n",
    "from sklearn.metrics import r2_score\n"
   ]
  },
  {
   "cell_type": "markdown",
   "id": "1fb83b9f",
   "metadata": {},
   "source": [
    "# B- Collecte et préparation des Données\n",
    "   "
   ]
  },
  {
   "cell_type": "markdown",
   "id": "98718cd0",
   "metadata": {},
   "source": [
    "## I- Import  et des données clients et ventes\n"
   ]
  },
  {
   "cell_type": "code",
   "execution_count": 2,
   "id": "34187012",
   "metadata": {},
   "outputs": [],
   "source": [
    "customers= pd.read_csv(\"file:data/customers.csv\")\n",
    "\n",
    "products= pd.read_csv(\"file:data/products.csv\")\n",
    "\n",
    "transactions= pd.read_csv(\"file:data/transactions.csv\")\n"
   ]
  },
  {
   "cell_type": "markdown",
   "id": "78947484",
   "metadata": {},
   "source": [
    "## II-Préparation et nettoyage des données\n",
    "   "
   ]
  },
  {
   "cell_type": "markdown",
   "id": "dc649de3",
   "metadata": {},
   "source": [
    "### Table 1- Clients"
   ]
  },
  {
   "cell_type": "code",
   "execution_count": 3,
   "id": "27561ae0",
   "metadata": {},
   "outputs": [
    {
     "data": {
      "text/html": [
       "<div>\n",
       "<style scoped>\n",
       "    .dataframe tbody tr th:only-of-type {\n",
       "        vertical-align: middle;\n",
       "    }\n",
       "\n",
       "    .dataframe tbody tr th {\n",
       "        vertical-align: top;\n",
       "    }\n",
       "\n",
       "    .dataframe thead th {\n",
       "        text-align: right;\n",
       "    }\n",
       "</style>\n",
       "<table border=\"1\" class=\"dataframe\">\n",
       "  <thead>\n",
       "    <tr style=\"text-align: right;\">\n",
       "      <th></th>\n",
       "      <th>client_id</th>\n",
       "      <th>sex</th>\n",
       "      <th>birth</th>\n",
       "    </tr>\n",
       "  </thead>\n",
       "  <tbody>\n",
       "    <tr>\n",
       "      <th>0</th>\n",
       "      <td>c_4410</td>\n",
       "      <td>f</td>\n",
       "      <td>1967</td>\n",
       "    </tr>\n",
       "    <tr>\n",
       "      <th>1</th>\n",
       "      <td>c_7839</td>\n",
       "      <td>f</td>\n",
       "      <td>1975</td>\n",
       "    </tr>\n",
       "    <tr>\n",
       "      <th>2</th>\n",
       "      <td>c_1699</td>\n",
       "      <td>f</td>\n",
       "      <td>1984</td>\n",
       "    </tr>\n",
       "    <tr>\n",
       "      <th>3</th>\n",
       "      <td>c_5961</td>\n",
       "      <td>f</td>\n",
       "      <td>1962</td>\n",
       "    </tr>\n",
       "    <tr>\n",
       "      <th>4</th>\n",
       "      <td>c_5320</td>\n",
       "      <td>m</td>\n",
       "      <td>1943</td>\n",
       "    </tr>\n",
       "  </tbody>\n",
       "</table>\n",
       "</div>"
      ],
      "text/plain": [
       "  client_id sex  birth\n",
       "0    c_4410   f   1967\n",
       "1    c_7839   f   1975\n",
       "2    c_1699   f   1984\n",
       "3    c_5961   f   1962\n",
       "4    c_5320   m   1943"
      ]
     },
     "execution_count": 3,
     "metadata": {},
     "output_type": "execute_result"
    }
   ],
   "source": [
    "#Vérification des premières lignes \n",
    "customers.head()"
   ]
  },
  {
   "cell_type": "code",
   "execution_count": 4,
   "id": "0c116e5b",
   "metadata": {},
   "outputs": [
    {
     "data": {
      "text/html": [
       "<div>\n",
       "<style scoped>\n",
       "    .dataframe tbody tr th:only-of-type {\n",
       "        vertical-align: middle;\n",
       "    }\n",
       "\n",
       "    .dataframe tbody tr th {\n",
       "        vertical-align: top;\n",
       "    }\n",
       "\n",
       "    .dataframe thead th {\n",
       "        text-align: right;\n",
       "    }\n",
       "</style>\n",
       "<table border=\"1\" class=\"dataframe\">\n",
       "  <thead>\n",
       "    <tr style=\"text-align: right;\">\n",
       "      <th></th>\n",
       "      <th>client_id</th>\n",
       "      <th>sex</th>\n",
       "      <th>birth</th>\n",
       "    </tr>\n",
       "  </thead>\n",
       "  <tbody>\n",
       "    <tr>\n",
       "      <th>8618</th>\n",
       "      <td>c_7920</td>\n",
       "      <td>m</td>\n",
       "      <td>1956</td>\n",
       "    </tr>\n",
       "    <tr>\n",
       "      <th>8619</th>\n",
       "      <td>c_7403</td>\n",
       "      <td>f</td>\n",
       "      <td>1970</td>\n",
       "    </tr>\n",
       "    <tr>\n",
       "      <th>8620</th>\n",
       "      <td>c_5119</td>\n",
       "      <td>m</td>\n",
       "      <td>1974</td>\n",
       "    </tr>\n",
       "    <tr>\n",
       "      <th>8621</th>\n",
       "      <td>c_5643</td>\n",
       "      <td>f</td>\n",
       "      <td>1968</td>\n",
       "    </tr>\n",
       "    <tr>\n",
       "      <th>8622</th>\n",
       "      <td>c_84</td>\n",
       "      <td>f</td>\n",
       "      <td>1982</td>\n",
       "    </tr>\n",
       "  </tbody>\n",
       "</table>\n",
       "</div>"
      ],
      "text/plain": [
       "     client_id sex  birth\n",
       "8618    c_7920   m   1956\n",
       "8619    c_7403   f   1970\n",
       "8620    c_5119   m   1974\n",
       "8621    c_5643   f   1968\n",
       "8622      c_84   f   1982"
      ]
     },
     "execution_count": 4,
     "metadata": {},
     "output_type": "execute_result"
    }
   ],
   "source": [
    "#Vérification des dernières lignes \n",
    "customers.tail()"
   ]
  },
  {
   "cell_type": "code",
   "execution_count": 5,
   "id": "0dd17b13",
   "metadata": {},
   "outputs": [
    {
     "name": "stdout",
     "output_type": "stream",
     "text": [
      "<class 'pandas.core.frame.DataFrame'>\n",
      "RangeIndex: 8623 entries, 0 to 8622\n",
      "Data columns (total 3 columns):\n",
      " #   Column     Non-Null Count  Dtype \n",
      "---  ------     --------------  ----- \n",
      " 0   client_id  8623 non-null   object\n",
      " 1   sex        8623 non-null   object\n",
      " 2   birth      8623 non-null   int64 \n",
      "dtypes: int64(1), object(2)\n",
      "memory usage: 202.2+ KB\n"
     ]
    }
   ],
   "source": [
    "# recherche d'information sur le nombre de valeurs null et le type des colonnes\n",
    "customers.info()"
   ]
  },
  {
   "cell_type": "code",
   "execution_count": 6,
   "id": "7b2d0d3d",
   "metadata": {},
   "outputs": [
    {
     "data": {
      "text/plain": [
       "client_id    0\n",
       "sex          0\n",
       "birth        0\n",
       "dtype: int64"
      ]
     },
     "execution_count": 6,
     "metadata": {},
     "output_type": "execute_result"
    }
   ],
   "source": [
    "#recherche des valeurs manquantes\n",
    "customers.isna().sum()"
   ]
  },
  {
   "cell_type": "code",
   "execution_count": 7,
   "id": "721753ba",
   "metadata": {},
   "outputs": [
    {
     "data": {
      "text/plain": [
       "(8623, 3)"
      ]
     },
     "execution_count": 7,
     "metadata": {},
     "output_type": "execute_result"
    }
   ],
   "source": [
    "# structure du df\n",
    "customers.shape"
   ]
  },
  {
   "cell_type": "code",
   "execution_count": 8,
   "id": "0063c3d8",
   "metadata": {},
   "outputs": [
    {
     "data": {
      "text/plain": [
       "0"
      ]
     },
     "execution_count": 8,
     "metadata": {},
     "output_type": "execute_result"
    }
   ],
   "source": [
    "#recherche des doublons\n",
    "customers.duplicated().sum()"
   ]
  },
  {
   "cell_type": "code",
   "execution_count": 9,
   "id": "ab869f2f",
   "metadata": {},
   "outputs": [
    {
     "data": {
      "text/plain": [
       "0"
      ]
     },
     "execution_count": 9,
     "metadata": {},
     "output_type": "execute_result"
    }
   ],
   "source": [
    "#recherche des doublons sur la clé primaire \"client_id\"\n",
    "customers.duplicated(subset=[\"client_id\"]).sum()"
   ]
  },
  {
   "cell_type": "code",
   "execution_count": 10,
   "id": "6b7ead0b",
   "metadata": {},
   "outputs": [
    {
     "name": "stdout",
     "output_type": "stream",
     "text": [
      "<class 'pandas.core.frame.DataFrame'>\n",
      "RangeIndex: 8623 entries, 0 to 8622\n",
      "Data columns (total 4 columns):\n",
      " #   Column     Non-Null Count  Dtype \n",
      "---  ------     --------------  ----- \n",
      " 0   client_id  8623 non-null   object\n",
      " 1   sex        8623 non-null   object\n",
      " 2   birth      8623 non-null   int64 \n",
      " 3   age        8623 non-null   int64 \n",
      "dtypes: int64(2), object(2)\n",
      "memory usage: 269.6+ KB\n"
     ]
    }
   ],
   "source": [
    "#Calcul de l'âge de chaque client et creation de la colonne âge\n",
    "import datetime\n",
    "year = datetime.datetime.now().year \n",
    "customers['age'] = year - customers['birth'] \n",
    "customers.info()\n"
   ]
  },
  {
   "cell_type": "markdown",
   "id": "d802380b",
   "metadata": {},
   "source": [
    "### Table 2- Produits"
   ]
  },
  {
   "cell_type": "code",
   "execution_count": 11,
   "id": "da5d97cf",
   "metadata": {},
   "outputs": [
    {
     "data": {
      "text/html": [
       "<div>\n",
       "<style scoped>\n",
       "    .dataframe tbody tr th:only-of-type {\n",
       "        vertical-align: middle;\n",
       "    }\n",
       "\n",
       "    .dataframe tbody tr th {\n",
       "        vertical-align: top;\n",
       "    }\n",
       "\n",
       "    .dataframe thead th {\n",
       "        text-align: right;\n",
       "    }\n",
       "</style>\n",
       "<table border=\"1\" class=\"dataframe\">\n",
       "  <thead>\n",
       "    <tr style=\"text-align: right;\">\n",
       "      <th></th>\n",
       "      <th>id_prod</th>\n",
       "      <th>price</th>\n",
       "      <th>categ</th>\n",
       "    </tr>\n",
       "  </thead>\n",
       "  <tbody>\n",
       "    <tr>\n",
       "      <th>0</th>\n",
       "      <td>0_1421</td>\n",
       "      <td>19.99</td>\n",
       "      <td>0</td>\n",
       "    </tr>\n",
       "    <tr>\n",
       "      <th>1</th>\n",
       "      <td>0_1368</td>\n",
       "      <td>5.13</td>\n",
       "      <td>0</td>\n",
       "    </tr>\n",
       "    <tr>\n",
       "      <th>2</th>\n",
       "      <td>0_731</td>\n",
       "      <td>17.99</td>\n",
       "      <td>0</td>\n",
       "    </tr>\n",
       "    <tr>\n",
       "      <th>3</th>\n",
       "      <td>1_587</td>\n",
       "      <td>4.99</td>\n",
       "      <td>1</td>\n",
       "    </tr>\n",
       "    <tr>\n",
       "      <th>4</th>\n",
       "      <td>0_1507</td>\n",
       "      <td>3.99</td>\n",
       "      <td>0</td>\n",
       "    </tr>\n",
       "  </tbody>\n",
       "</table>\n",
       "</div>"
      ],
      "text/plain": [
       "  id_prod  price  categ\n",
       "0  0_1421  19.99      0\n",
       "1  0_1368   5.13      0\n",
       "2   0_731  17.99      0\n",
       "3   1_587   4.99      1\n",
       "4  0_1507   3.99      0"
      ]
     },
     "execution_count": 11,
     "metadata": {},
     "output_type": "execute_result"
    }
   ],
   "source": [
    "\n",
    "#Vérification des premières lignes \n",
    "products.head()"
   ]
  },
  {
   "cell_type": "code",
   "execution_count": 12,
   "id": "d40cd14f",
   "metadata": {},
   "outputs": [
    {
     "data": {
      "text/html": [
       "<div>\n",
       "<style scoped>\n",
       "    .dataframe tbody tr th:only-of-type {\n",
       "        vertical-align: middle;\n",
       "    }\n",
       "\n",
       "    .dataframe tbody tr th {\n",
       "        vertical-align: top;\n",
       "    }\n",
       "\n",
       "    .dataframe thead th {\n",
       "        text-align: right;\n",
       "    }\n",
       "</style>\n",
       "<table border=\"1\" class=\"dataframe\">\n",
       "  <thead>\n",
       "    <tr style=\"text-align: right;\">\n",
       "      <th></th>\n",
       "      <th>id_prod</th>\n",
       "      <th>price</th>\n",
       "      <th>categ</th>\n",
       "    </tr>\n",
       "  </thead>\n",
       "  <tbody>\n",
       "    <tr>\n",
       "      <th>3282</th>\n",
       "      <td>2_23</td>\n",
       "      <td>115.99</td>\n",
       "      <td>2</td>\n",
       "    </tr>\n",
       "    <tr>\n",
       "      <th>3283</th>\n",
       "      <td>0_146</td>\n",
       "      <td>17.14</td>\n",
       "      <td>0</td>\n",
       "    </tr>\n",
       "    <tr>\n",
       "      <th>3284</th>\n",
       "      <td>0_802</td>\n",
       "      <td>11.22</td>\n",
       "      <td>0</td>\n",
       "    </tr>\n",
       "    <tr>\n",
       "      <th>3285</th>\n",
       "      <td>1_140</td>\n",
       "      <td>38.56</td>\n",
       "      <td>1</td>\n",
       "    </tr>\n",
       "    <tr>\n",
       "      <th>3286</th>\n",
       "      <td>0_1920</td>\n",
       "      <td>25.16</td>\n",
       "      <td>0</td>\n",
       "    </tr>\n",
       "  </tbody>\n",
       "</table>\n",
       "</div>"
      ],
      "text/plain": [
       "     id_prod   price  categ\n",
       "3282    2_23  115.99      2\n",
       "3283   0_146   17.14      0\n",
       "3284   0_802   11.22      0\n",
       "3285   1_140   38.56      1\n",
       "3286  0_1920   25.16      0"
      ]
     },
     "execution_count": 12,
     "metadata": {},
     "output_type": "execute_result"
    }
   ],
   "source": [
    "#Vérification des dernières lignes \n",
    "products.tail()"
   ]
  },
  {
   "cell_type": "code",
   "execution_count": 13,
   "id": "3710232f",
   "metadata": {},
   "outputs": [
    {
     "data": {
      "text/plain": [
       "(3287, 3)"
      ]
     },
     "execution_count": 13,
     "metadata": {},
     "output_type": "execute_result"
    }
   ],
   "source": [
    "# structure du df\n",
    "products.shape"
   ]
  },
  {
   "cell_type": "code",
   "execution_count": 14,
   "id": "52b1bbd3",
   "metadata": {},
   "outputs": [
    {
     "name": "stdout",
     "output_type": "stream",
     "text": [
      "<class 'pandas.core.frame.DataFrame'>\n",
      "RangeIndex: 3287 entries, 0 to 3286\n",
      "Data columns (total 3 columns):\n",
      " #   Column   Non-Null Count  Dtype  \n",
      "---  ------   --------------  -----  \n",
      " 0   id_prod  3287 non-null   object \n",
      " 1   price    3287 non-null   float64\n",
      " 2   categ    3287 non-null   int64  \n",
      "dtypes: float64(1), int64(1), object(1)\n",
      "memory usage: 77.2+ KB\n"
     ]
    }
   ],
   "source": [
    "# recherche d'information sur le nombre de valeurs null et le type des colonnes\n",
    "products.info()"
   ]
  },
  {
   "cell_type": "code",
   "execution_count": 15,
   "id": "8b8ffe35",
   "metadata": {},
   "outputs": [
    {
     "data": {
      "text/plain": [
       "id_prod    0\n",
       "price      0\n",
       "categ      0\n",
       "dtype: int64"
      ]
     },
     "execution_count": 15,
     "metadata": {},
     "output_type": "execute_result"
    }
   ],
   "source": [
    "#recherche des valeurs manquantes\n",
    "products.isna().sum()"
   ]
  },
  {
   "cell_type": "code",
   "execution_count": 16,
   "id": "d7b28dce",
   "metadata": {},
   "outputs": [
    {
     "data": {
      "text/plain": [
       "0"
      ]
     },
     "execution_count": 16,
     "metadata": {},
     "output_type": "execute_result"
    }
   ],
   "source": [
    "#recherche des doublons\n",
    "products.duplicated().sum()"
   ]
  },
  {
   "cell_type": "code",
   "execution_count": 17,
   "id": "0f20197f",
   "metadata": {},
   "outputs": [
    {
     "data": {
      "text/plain": [
       "0"
      ]
     },
     "execution_count": 17,
     "metadata": {},
     "output_type": "execute_result"
    }
   ],
   "source": [
    "#recherche des doublons sur la clé primaire \"id_prod\"\n",
    "products.duplicated(subset=[\"id_prod\"]).sum()"
   ]
  },
  {
   "cell_type": "markdown",
   "id": "b041d594",
   "metadata": {},
   "source": [
    "### Table 3- Ventes"
   ]
  },
  {
   "cell_type": "code",
   "execution_count": 18,
   "id": "8c23ba39",
   "metadata": {},
   "outputs": [
    {
     "data": {
      "text/html": [
       "<div>\n",
       "<style scoped>\n",
       "    .dataframe tbody tr th:only-of-type {\n",
       "        vertical-align: middle;\n",
       "    }\n",
       "\n",
       "    .dataframe tbody tr th {\n",
       "        vertical-align: top;\n",
       "    }\n",
       "\n",
       "    .dataframe thead th {\n",
       "        text-align: right;\n",
       "    }\n",
       "</style>\n",
       "<table border=\"1\" class=\"dataframe\">\n",
       "  <thead>\n",
       "    <tr style=\"text-align: right;\">\n",
       "      <th></th>\n",
       "      <th>id_prod</th>\n",
       "      <th>date</th>\n",
       "      <th>session_id</th>\n",
       "      <th>client_id</th>\n",
       "    </tr>\n",
       "  </thead>\n",
       "  <tbody>\n",
       "    <tr>\n",
       "      <th>0</th>\n",
       "      <td>0_1518</td>\n",
       "      <td>2022-05-20 13:21:29.043970</td>\n",
       "      <td>s_211425</td>\n",
       "      <td>c_103</td>\n",
       "    </tr>\n",
       "    <tr>\n",
       "      <th>1</th>\n",
       "      <td>1_251</td>\n",
       "      <td>2022-02-02 07:55:19.149409</td>\n",
       "      <td>s_158752</td>\n",
       "      <td>c_8534</td>\n",
       "    </tr>\n",
       "    <tr>\n",
       "      <th>2</th>\n",
       "      <td>0_1277</td>\n",
       "      <td>2022-06-18 15:44:33.155329</td>\n",
       "      <td>s_225667</td>\n",
       "      <td>c_6714</td>\n",
       "    </tr>\n",
       "    <tr>\n",
       "      <th>3</th>\n",
       "      <td>2_209</td>\n",
       "      <td>2021-06-24 04:19:29.835891</td>\n",
       "      <td>s_52962</td>\n",
       "      <td>c_6941</td>\n",
       "    </tr>\n",
       "    <tr>\n",
       "      <th>4</th>\n",
       "      <td>0_1509</td>\n",
       "      <td>2023-01-11 08:22:08.194479</td>\n",
       "      <td>s_325227</td>\n",
       "      <td>c_4232</td>\n",
       "    </tr>\n",
       "  </tbody>\n",
       "</table>\n",
       "</div>"
      ],
      "text/plain": [
       "  id_prod                        date session_id client_id\n",
       "0  0_1518  2022-05-20 13:21:29.043970   s_211425     c_103\n",
       "1   1_251  2022-02-02 07:55:19.149409   s_158752    c_8534\n",
       "2  0_1277  2022-06-18 15:44:33.155329   s_225667    c_6714\n",
       "3   2_209  2021-06-24 04:19:29.835891    s_52962    c_6941\n",
       "4  0_1509  2023-01-11 08:22:08.194479   s_325227    c_4232"
      ]
     },
     "execution_count": 18,
     "metadata": {},
     "output_type": "execute_result"
    }
   ],
   "source": [
    "#Vérification des premières lignes \n",
    "transactions.head()"
   ]
  },
  {
   "cell_type": "code",
   "execution_count": 19,
   "id": "2ded1806",
   "metadata": {},
   "outputs": [
    {
     "data": {
      "text/html": [
       "<div>\n",
       "<style scoped>\n",
       "    .dataframe tbody tr th:only-of-type {\n",
       "        vertical-align: middle;\n",
       "    }\n",
       "\n",
       "    .dataframe tbody tr th {\n",
       "        vertical-align: top;\n",
       "    }\n",
       "\n",
       "    .dataframe thead th {\n",
       "        text-align: right;\n",
       "    }\n",
       "</style>\n",
       "<table border=\"1\" class=\"dataframe\">\n",
       "  <thead>\n",
       "    <tr style=\"text-align: right;\">\n",
       "      <th></th>\n",
       "      <th>id_prod</th>\n",
       "      <th>date</th>\n",
       "      <th>session_id</th>\n",
       "      <th>client_id</th>\n",
       "    </tr>\n",
       "  </thead>\n",
       "  <tbody>\n",
       "    <tr>\n",
       "      <th>679527</th>\n",
       "      <td>0_1551</td>\n",
       "      <td>2022-01-15 13:05:06.246925</td>\n",
       "      <td>s_150195</td>\n",
       "      <td>c_8489</td>\n",
       "    </tr>\n",
       "    <tr>\n",
       "      <th>679528</th>\n",
       "      <td>1_639</td>\n",
       "      <td>2022-03-19 16:03:23.429229</td>\n",
       "      <td>s_181434</td>\n",
       "      <td>c_4370</td>\n",
       "    </tr>\n",
       "    <tr>\n",
       "      <th>679529</th>\n",
       "      <td>0_1425</td>\n",
       "      <td>2022-12-20 04:33:37.584749</td>\n",
       "      <td>s_314704</td>\n",
       "      <td>c_304</td>\n",
       "    </tr>\n",
       "    <tr>\n",
       "      <th>679530</th>\n",
       "      <td>0_1994</td>\n",
       "      <td>2021-07-16 20:36:35.350579</td>\n",
       "      <td>s_63204</td>\n",
       "      <td>c_2227</td>\n",
       "    </tr>\n",
       "    <tr>\n",
       "      <th>679531</th>\n",
       "      <td>1_523</td>\n",
       "      <td>2022-09-28 01:12:01.973763</td>\n",
       "      <td>s_274568</td>\n",
       "      <td>c_3873</td>\n",
       "    </tr>\n",
       "  </tbody>\n",
       "</table>\n",
       "</div>"
      ],
      "text/plain": [
       "       id_prod                        date session_id client_id\n",
       "679527  0_1551  2022-01-15 13:05:06.246925   s_150195    c_8489\n",
       "679528   1_639  2022-03-19 16:03:23.429229   s_181434    c_4370\n",
       "679529  0_1425  2022-12-20 04:33:37.584749   s_314704     c_304\n",
       "679530  0_1994  2021-07-16 20:36:35.350579    s_63204    c_2227\n",
       "679531   1_523  2022-09-28 01:12:01.973763   s_274568    c_3873"
      ]
     },
     "execution_count": 19,
     "metadata": {},
     "output_type": "execute_result"
    }
   ],
   "source": [
    "#Vérification des dernières lignes \n",
    "transactions.tail()"
   ]
  },
  {
   "cell_type": "code",
   "execution_count": 20,
   "id": "1672b478",
   "metadata": {},
   "outputs": [
    {
     "data": {
      "text/plain": [
       "(679532, 4)"
      ]
     },
     "execution_count": 20,
     "metadata": {},
     "output_type": "execute_result"
    }
   ],
   "source": [
    "# structure du df\n",
    "transactions.shape"
   ]
  },
  {
   "cell_type": "code",
   "execution_count": 21,
   "id": "ff91eb9d",
   "metadata": {},
   "outputs": [
    {
     "name": "stdout",
     "output_type": "stream",
     "text": [
      "<class 'pandas.core.frame.DataFrame'>\n",
      "RangeIndex: 679532 entries, 0 to 679531\n",
      "Data columns (total 4 columns):\n",
      " #   Column      Non-Null Count   Dtype \n",
      "---  ------      --------------   ----- \n",
      " 0   id_prod     679532 non-null  object\n",
      " 1   date        679532 non-null  object\n",
      " 2   session_id  679532 non-null  object\n",
      " 3   client_id   679532 non-null  object\n",
      "dtypes: object(4)\n",
      "memory usage: 20.7+ MB\n"
     ]
    }
   ],
   "source": [
    "# recherche d'information sur le nombre de valeurs null et le type des colonnes\n",
    "transactions.info()"
   ]
  },
  {
   "cell_type": "markdown",
   "id": "1c2b7f36",
   "metadata": {},
   "source": [
    "La variable date n'a pas le bon type"
   ]
  },
  {
   "cell_type": "code",
   "execution_count": 22,
   "id": "b87faead",
   "metadata": {},
   "outputs": [
    {
     "data": {
      "text/html": [
       "<div>\n",
       "<style scoped>\n",
       "    .dataframe tbody tr th:only-of-type {\n",
       "        vertical-align: middle;\n",
       "    }\n",
       "\n",
       "    .dataframe tbody tr th {\n",
       "        vertical-align: top;\n",
       "    }\n",
       "\n",
       "    .dataframe thead th {\n",
       "        text-align: right;\n",
       "    }\n",
       "</style>\n",
       "<table border=\"1\" class=\"dataframe\">\n",
       "  <thead>\n",
       "    <tr style=\"text-align: right;\">\n",
       "      <th></th>\n",
       "      <th>id_prod</th>\n",
       "      <th>date</th>\n",
       "      <th>session_id</th>\n",
       "      <th>client_id</th>\n",
       "    </tr>\n",
       "  </thead>\n",
       "  <tbody>\n",
       "    <tr>\n",
       "      <th>3019</th>\n",
       "      <td>T_0</td>\n",
       "      <td>test_2021-03-01 02:30:02.237419</td>\n",
       "      <td>s_0</td>\n",
       "      <td>ct_0</td>\n",
       "    </tr>\n",
       "    <tr>\n",
       "      <th>5138</th>\n",
       "      <td>T_0</td>\n",
       "      <td>test_2021-03-01 02:30:02.237425</td>\n",
       "      <td>s_0</td>\n",
       "      <td>ct_0</td>\n",
       "    </tr>\n",
       "    <tr>\n",
       "      <th>9668</th>\n",
       "      <td>T_0</td>\n",
       "      <td>test_2021-03-01 02:30:02.237437</td>\n",
       "      <td>s_0</td>\n",
       "      <td>ct_1</td>\n",
       "    </tr>\n",
       "    <tr>\n",
       "      <th>10728</th>\n",
       "      <td>T_0</td>\n",
       "      <td>test_2021-03-01 02:30:02.237436</td>\n",
       "      <td>s_0</td>\n",
       "      <td>ct_0</td>\n",
       "    </tr>\n",
       "    <tr>\n",
       "      <th>15292</th>\n",
       "      <td>T_0</td>\n",
       "      <td>test_2021-03-01 02:30:02.237430</td>\n",
       "      <td>s_0</td>\n",
       "      <td>ct_0</td>\n",
       "    </tr>\n",
       "    <tr>\n",
       "      <th>...</th>\n",
       "      <td>...</td>\n",
       "      <td>...</td>\n",
       "      <td>...</td>\n",
       "      <td>...</td>\n",
       "    </tr>\n",
       "    <tr>\n",
       "      <th>657830</th>\n",
       "      <td>T_0</td>\n",
       "      <td>test_2021-03-01 02:30:02.237417</td>\n",
       "      <td>s_0</td>\n",
       "      <td>ct_0</td>\n",
       "    </tr>\n",
       "    <tr>\n",
       "      <th>662081</th>\n",
       "      <td>T_0</td>\n",
       "      <td>test_2021-03-01 02:30:02.237427</td>\n",
       "      <td>s_0</td>\n",
       "      <td>ct_1</td>\n",
       "    </tr>\n",
       "    <tr>\n",
       "      <th>670680</th>\n",
       "      <td>T_0</td>\n",
       "      <td>test_2021-03-01 02:30:02.237449</td>\n",
       "      <td>s_0</td>\n",
       "      <td>ct_1</td>\n",
       "    </tr>\n",
       "    <tr>\n",
       "      <th>671647</th>\n",
       "      <td>T_0</td>\n",
       "      <td>test_2021-03-01 02:30:02.237424</td>\n",
       "      <td>s_0</td>\n",
       "      <td>ct_1</td>\n",
       "    </tr>\n",
       "    <tr>\n",
       "      <th>679180</th>\n",
       "      <td>T_0</td>\n",
       "      <td>test_2021-03-01 02:30:02.237425</td>\n",
       "      <td>s_0</td>\n",
       "      <td>ct_1</td>\n",
       "    </tr>\n",
       "  </tbody>\n",
       "</table>\n",
       "<p>200 rows × 4 columns</p>\n",
       "</div>"
      ],
      "text/plain": [
       "       id_prod                             date session_id client_id\n",
       "3019       T_0  test_2021-03-01 02:30:02.237419        s_0      ct_0\n",
       "5138       T_0  test_2021-03-01 02:30:02.237425        s_0      ct_0\n",
       "9668       T_0  test_2021-03-01 02:30:02.237437        s_0      ct_1\n",
       "10728      T_0  test_2021-03-01 02:30:02.237436        s_0      ct_0\n",
       "15292      T_0  test_2021-03-01 02:30:02.237430        s_0      ct_0\n",
       "...        ...                              ...        ...       ...\n",
       "657830     T_0  test_2021-03-01 02:30:02.237417        s_0      ct_0\n",
       "662081     T_0  test_2021-03-01 02:30:02.237427        s_0      ct_1\n",
       "670680     T_0  test_2021-03-01 02:30:02.237449        s_0      ct_1\n",
       "671647     T_0  test_2021-03-01 02:30:02.237424        s_0      ct_1\n",
       "679180     T_0  test_2021-03-01 02:30:02.237425        s_0      ct_1\n",
       "\n",
       "[200 rows x 4 columns]"
      ]
     },
     "execution_count": 22,
     "metadata": {},
     "output_type": "execute_result"
    }
   ],
   "source": [
    "\n",
    "#creation de la table df-test pour visualiser les données de test \n",
    "df_test=transactions[transactions.date.str.contains('test')]\n",
    "df_test"
   ]
  },
  {
   "cell_type": "code",
   "execution_count": 23,
   "id": "4e5de250",
   "metadata": {},
   "outputs": [
    {
     "data": {
      "text/html": [
       "<div>\n",
       "<style scoped>\n",
       "    .dataframe tbody tr th:only-of-type {\n",
       "        vertical-align: middle;\n",
       "    }\n",
       "\n",
       "    .dataframe tbody tr th {\n",
       "        vertical-align: top;\n",
       "    }\n",
       "\n",
       "    .dataframe thead th {\n",
       "        text-align: right;\n",
       "    }\n",
       "</style>\n",
       "<table border=\"1\" class=\"dataframe\">\n",
       "  <thead>\n",
       "    <tr style=\"text-align: right;\">\n",
       "      <th></th>\n",
       "      <th>id_prod</th>\n",
       "      <th>date</th>\n",
       "      <th>session_id</th>\n",
       "      <th>client_id</th>\n",
       "    </tr>\n",
       "  </thead>\n",
       "  <tbody>\n",
       "    <tr>\n",
       "      <th>0</th>\n",
       "      <td>0_1518</td>\n",
       "      <td>2022-05-20 13:21:29.043970</td>\n",
       "      <td>s_211425</td>\n",
       "      <td>c_103</td>\n",
       "    </tr>\n",
       "    <tr>\n",
       "      <th>1</th>\n",
       "      <td>1_251</td>\n",
       "      <td>2022-02-02 07:55:19.149409</td>\n",
       "      <td>s_158752</td>\n",
       "      <td>c_8534</td>\n",
       "    </tr>\n",
       "    <tr>\n",
       "      <th>2</th>\n",
       "      <td>0_1277</td>\n",
       "      <td>2022-06-18 15:44:33.155329</td>\n",
       "      <td>s_225667</td>\n",
       "      <td>c_6714</td>\n",
       "    </tr>\n",
       "    <tr>\n",
       "      <th>3</th>\n",
       "      <td>2_209</td>\n",
       "      <td>2021-06-24 04:19:29.835891</td>\n",
       "      <td>s_52962</td>\n",
       "      <td>c_6941</td>\n",
       "    </tr>\n",
       "    <tr>\n",
       "      <th>4</th>\n",
       "      <td>0_1509</td>\n",
       "      <td>2023-01-11 08:22:08.194479</td>\n",
       "      <td>s_325227</td>\n",
       "      <td>c_4232</td>\n",
       "    </tr>\n",
       "    <tr>\n",
       "      <th>...</th>\n",
       "      <td>...</td>\n",
       "      <td>...</td>\n",
       "      <td>...</td>\n",
       "      <td>...</td>\n",
       "    </tr>\n",
       "    <tr>\n",
       "      <th>679527</th>\n",
       "      <td>0_1551</td>\n",
       "      <td>2022-01-15 13:05:06.246925</td>\n",
       "      <td>s_150195</td>\n",
       "      <td>c_8489</td>\n",
       "    </tr>\n",
       "    <tr>\n",
       "      <th>679528</th>\n",
       "      <td>1_639</td>\n",
       "      <td>2022-03-19 16:03:23.429229</td>\n",
       "      <td>s_181434</td>\n",
       "      <td>c_4370</td>\n",
       "    </tr>\n",
       "    <tr>\n",
       "      <th>679529</th>\n",
       "      <td>0_1425</td>\n",
       "      <td>2022-12-20 04:33:37.584749</td>\n",
       "      <td>s_314704</td>\n",
       "      <td>c_304</td>\n",
       "    </tr>\n",
       "    <tr>\n",
       "      <th>679530</th>\n",
       "      <td>0_1994</td>\n",
       "      <td>2021-07-16 20:36:35.350579</td>\n",
       "      <td>s_63204</td>\n",
       "      <td>c_2227</td>\n",
       "    </tr>\n",
       "    <tr>\n",
       "      <th>679531</th>\n",
       "      <td>1_523</td>\n",
       "      <td>2022-09-28 01:12:01.973763</td>\n",
       "      <td>s_274568</td>\n",
       "      <td>c_3873</td>\n",
       "    </tr>\n",
       "  </tbody>\n",
       "</table>\n",
       "<p>679332 rows × 4 columns</p>\n",
       "</div>"
      ],
      "text/plain": [
       "       id_prod                        date session_id client_id\n",
       "0       0_1518  2022-05-20 13:21:29.043970   s_211425     c_103\n",
       "1        1_251  2022-02-02 07:55:19.149409   s_158752    c_8534\n",
       "2       0_1277  2022-06-18 15:44:33.155329   s_225667    c_6714\n",
       "3        2_209  2021-06-24 04:19:29.835891    s_52962    c_6941\n",
       "4       0_1509  2023-01-11 08:22:08.194479   s_325227    c_4232\n",
       "...        ...                         ...        ...       ...\n",
       "679527  0_1551  2022-01-15 13:05:06.246925   s_150195    c_8489\n",
       "679528   1_639  2022-03-19 16:03:23.429229   s_181434    c_4370\n",
       "679529  0_1425  2022-12-20 04:33:37.584749   s_314704     c_304\n",
       "679530  0_1994  2021-07-16 20:36:35.350579    s_63204    c_2227\n",
       "679531   1_523  2022-09-28 01:12:01.973763   s_274568    c_3873\n",
       "\n",
       "[679332 rows x 4 columns]"
      ]
     },
     "execution_count": 23,
     "metadata": {},
     "output_type": "execute_result"
    }
   ],
   "source": [
    "#Supprésion des données de test dans la table transaction\n",
    "transactions=transactions.drop(transactions[transactions.date.str.contains(\"test\")].index)\n",
    "transactions"
   ]
  },
  {
   "cell_type": "code",
   "execution_count": 24,
   "id": "bdb0b17b",
   "metadata": {},
   "outputs": [],
   "source": [
    "# changement du type date  de object à datetime\n",
    "transactions['date'] = pd.to_datetime(transactions['date'])\n"
   ]
  },
  {
   "cell_type": "code",
   "execution_count": 25,
   "id": "cba86279",
   "metadata": {},
   "outputs": [],
   "source": [
    "#Création des colonnes 'new_date' et 'time'\n",
    "transactions['new_date'] = [d.date() for d in transactions['date']]\n",
    "transactions[\"new_date\"] = pd.to_datetime(transactions[\"new_date\"])\n",
    "transactions['time'] = [d.time()for d in transactions['date']]\n",
    "transactions['year'] = transactions['date'].dt.year\n",
    "transactions['month'] = transactions['date'].dt.month\n",
    "transactions['year_month'] = transactions['date'].dt.to_period('M')\n"
   ]
  },
  {
   "cell_type": "code",
   "execution_count": 26,
   "id": "851019cb",
   "metadata": {},
   "outputs": [],
   "source": [
    "\n",
    "#Création de la colonne  nombre , j'assigne le chiffre 1 car chque ligne = vente d'un article\n",
    "transactions['nombre'] = 1"
   ]
  },
  {
   "cell_type": "code",
   "execution_count": 27,
   "id": "d0ced0ae",
   "metadata": {},
   "outputs": [
    {
     "name": "stdout",
     "output_type": "stream",
     "text": [
      "<class 'pandas.core.frame.DataFrame'>\n",
      "Int64Index: 679332 entries, 0 to 679531\n",
      "Data columns (total 10 columns):\n",
      " #   Column      Non-Null Count   Dtype         \n",
      "---  ------      --------------   -----         \n",
      " 0   id_prod     679332 non-null  object        \n",
      " 1   date        679332 non-null  datetime64[ns]\n",
      " 2   session_id  679332 non-null  object        \n",
      " 3   client_id   679332 non-null  object        \n",
      " 4   new_date    679332 non-null  datetime64[ns]\n",
      " 5   time        679332 non-null  object        \n",
      " 6   year        679332 non-null  int64         \n",
      " 7   month       679332 non-null  int64         \n",
      " 8   year_month  679332 non-null  period[M]     \n",
      " 9   nombre      679332 non-null  int64         \n",
      "dtypes: datetime64[ns](2), int64(3), object(4), period[M](1)\n",
      "memory usage: 57.0+ MB\n"
     ]
    }
   ],
   "source": [
    "# Vérification\n",
    "transactions.info()"
   ]
  },
  {
   "cell_type": "code",
   "execution_count": 28,
   "id": "f3325b6a",
   "metadata": {},
   "outputs": [
    {
     "data": {
      "text/plain": [
       "id_prod       0\n",
       "date          0\n",
       "session_id    0\n",
       "client_id     0\n",
       "new_date      0\n",
       "time          0\n",
       "year          0\n",
       "month         0\n",
       "year_month    0\n",
       "nombre        0\n",
       "dtype: int64"
      ]
     },
     "execution_count": 28,
     "metadata": {},
     "output_type": "execute_result"
    }
   ],
   "source": [
    "#recherche des valeurs manquantes\n",
    "transactions.isna().sum()"
   ]
  },
  {
   "cell_type": "code",
   "execution_count": 29,
   "id": "45a1d7ba",
   "metadata": {},
   "outputs": [
    {
     "data": {
      "text/plain": [
       "0"
      ]
     },
     "execution_count": 29,
     "metadata": {},
     "output_type": "execute_result"
    }
   ],
   "source": [
    "#recherche des doublons sur la clé primaire [\"id_prod\",\"session_id\",\"client_id\",\"time\"]\n",
    "transactions.duplicated(subset=[\"id_prod\",\"session_id\",\"client_id\",\"time\"]).sum()"
   ]
  },
  {
   "cell_type": "markdown",
   "id": "9ac381c2",
   "metadata": {},
   "source": [
    "## III- Traitement des valeurs manquantes"
   ]
  },
  {
   "cell_type": "markdown",
   "id": "dfb85f6d",
   "metadata": {},
   "source": [
    "**Fusion des données**"
   ]
  },
  {
   "cell_type": "code",
   "execution_count": 30,
   "id": "09b39bbd",
   "metadata": {},
   "outputs": [
    {
     "name": "stdout",
     "output_type": "stream",
     "text": [
      "<class 'pandas.core.frame.DataFrame'>\n",
      "Int64Index: 679332 entries, 0 to 679331\n",
      "Data columns (total 12 columns):\n",
      " #   Column      Non-Null Count   Dtype         \n",
      "---  ------      --------------   -----         \n",
      " 0   id_prod     679332 non-null  object        \n",
      " 1   date        679332 non-null  datetime64[ns]\n",
      " 2   session_id  679332 non-null  object        \n",
      " 3   client_id   679332 non-null  object        \n",
      " 4   new_date    679332 non-null  datetime64[ns]\n",
      " 5   time        679332 non-null  object        \n",
      " 6   year        679332 non-null  int64         \n",
      " 7   month       679332 non-null  int64         \n",
      " 8   year_month  679332 non-null  period[M]     \n",
      " 9   nombre      679332 non-null  int64         \n",
      " 10  price       679111 non-null  float64       \n",
      " 11  categ       679111 non-null  float64       \n",
      "dtypes: datetime64[ns](2), float64(2), int64(3), object(4), period[M](1)\n",
      "memory usage: 67.4+ MB\n"
     ]
    }
   ],
   "source": [
    "#fusion des df transactions et products\n",
    " \n",
    "t_p = pd.merge(transactions,products,on=[\"id_prod\"],how='left')\n",
    "t_p.info()"
   ]
  },
  {
   "cell_type": "markdown",
   "id": "8a7797fd",
   "metadata": {},
   "source": [
    "**Nous avons des valeurs manquantes au niveau de price et categ**"
   ]
  },
  {
   "cell_type": "code",
   "execution_count": 31,
   "id": "5ca8db8f",
   "metadata": {},
   "outputs": [
    {
     "data": {
      "text/plain": [
       "id_prod         0\n",
       "date            0\n",
       "session_id      0\n",
       "client_id       0\n",
       "new_date        0\n",
       "time            0\n",
       "year            0\n",
       "month           0\n",
       "year_month      0\n",
       "nombre          0\n",
       "price         221\n",
       "categ         221\n",
       "dtype: int64"
      ]
     },
     "execution_count": 31,
     "metadata": {},
     "output_type": "execute_result"
    }
   ],
   "source": [
    "#recherche des valeurs manquantes\n",
    "t_p.isna().sum()"
   ]
  },
  {
   "cell_type": "code",
   "execution_count": 32,
   "id": "3e6a5523",
   "metadata": {},
   "outputs": [
    {
     "data": {
      "text/plain": [
       "id_prod       0.000000\n",
       "date          0.000000\n",
       "session_id    0.000000\n",
       "client_id     0.000000\n",
       "new_date      0.000000\n",
       "time          0.000000\n",
       "year          0.000000\n",
       "month         0.000000\n",
       "year_month    0.000000\n",
       "nombre        0.000000\n",
       "price         0.000325\n",
       "categ         0.000325\n",
       "dtype: float64"
      ]
     },
     "execution_count": 32,
     "metadata": {},
     "output_type": "execute_result"
    }
   ],
   "source": [
    "t_p.isna().mean()"
   ]
  },
  {
   "cell_type": "code",
   "execution_count": 33,
   "id": "180f64a2",
   "metadata": {},
   "outputs": [
    {
     "name": "stdout",
     "output_type": "stream",
     "text": [
      "       id_prod                       date session_id client_id   new_date  \\\n",
      "2633    0_2245 2022-09-23 07:22:38.636773   s_272266    c_4746 2022-09-23   \n",
      "10103   0_2245 2022-07-23 09:24:14.133889   s_242482    c_6713 2022-07-23   \n",
      "11723   0_2245 2022-12-03 03:26:35.696673   s_306338    c_5108 2022-12-03   \n",
      "15670   0_2245 2021-08-16 11:33:25.481411    s_76493    c_1391 2021-08-16   \n",
      "16372   0_2245 2022-07-16 05:53:01.627491   s_239078    c_7954 2022-07-16   \n",
      "...        ...                        ...        ...       ...        ...   \n",
      "669533  0_2245 2021-08-25 09:06:03.504061    s_80395     c_131 2021-08-25   \n",
      "670484  0_2245 2022-03-06 19:59:19.462288   s_175311    c_4167 2022-03-06   \n",
      "671088  0_2245 2022-05-16 11:35:20.319501   s_209381    c_4453 2022-05-16   \n",
      "675480  0_2245 2022-02-11 09:05:43.952857   s_163405    c_1098 2022-02-11   \n",
      "677797  0_2245 2021-12-14 22:34:54.589921   s_134446    c_4854 2021-12-14   \n",
      "\n",
      "                   time  year  month year_month  nombre  price  categ  \n",
      "2633    07:22:38.636773  2022      9    2022-09       1    NaN    NaN  \n",
      "10103   09:24:14.133889  2022      7    2022-07       1    NaN    NaN  \n",
      "11723   03:26:35.696673  2022     12    2022-12       1    NaN    NaN  \n",
      "15670   11:33:25.481411  2021      8    2021-08       1    NaN    NaN  \n",
      "16372   05:53:01.627491  2022      7    2022-07       1    NaN    NaN  \n",
      "...                 ...   ...    ...        ...     ...    ...    ...  \n",
      "669533  09:06:03.504061  2021      8    2021-08       1    NaN    NaN  \n",
      "670484  19:59:19.462288  2022      3    2022-03       1    NaN    NaN  \n",
      "671088  11:35:20.319501  2022      5    2022-05       1    NaN    NaN  \n",
      "675480  09:05:43.952857  2022      2    2022-02       1    NaN    NaN  \n",
      "677797  22:34:54.589921  2021     12    2021-12       1    NaN    NaN  \n",
      "\n",
      "[221 rows x 12 columns]\n"
     ]
    }
   ],
   "source": [
    "#visualisation des valeurs manquantes\n",
    "df1 = t_p[t_p.isnull().any(axis=1)]\n",
    "print (df1)"
   ]
  },
  {
   "cell_type": "code",
   "execution_count": 34,
   "id": "f53f1a79",
   "metadata": {},
   "outputs": [
    {
     "data": {
      "text/plain": [
       "array(['0_2245'], dtype=object)"
      ]
     },
     "execution_count": 34,
     "metadata": {},
     "output_type": "execute_result"
    }
   ],
   "source": [
    "#Recherche de la valeur de l'id_produit concerné\n",
    "df1[\"id_prod\"].unique()"
   ]
  },
  {
   "cell_type": "code",
   "execution_count": 35,
   "id": "a69e77f5",
   "metadata": {},
   "outputs": [
    {
     "data": {
      "text/html": [
       "<div>\n",
       "<style scoped>\n",
       "    .dataframe tbody tr th:only-of-type {\n",
       "        vertical-align: middle;\n",
       "    }\n",
       "\n",
       "    .dataframe tbody tr th {\n",
       "        vertical-align: top;\n",
       "    }\n",
       "\n",
       "    .dataframe thead th {\n",
       "        text-align: right;\n",
       "    }\n",
       "</style>\n",
       "<table border=\"1\" class=\"dataframe\">\n",
       "  <thead>\n",
       "    <tr style=\"text-align: right;\">\n",
       "      <th></th>\n",
       "      <th>id_prod</th>\n",
       "      <th>date</th>\n",
       "      <th>session_id</th>\n",
       "      <th>client_id</th>\n",
       "      <th>new_date</th>\n",
       "      <th>time</th>\n",
       "      <th>year</th>\n",
       "      <th>month</th>\n",
       "      <th>year_month</th>\n",
       "      <th>nombre</th>\n",
       "      <th>price</th>\n",
       "      <th>categ</th>\n",
       "    </tr>\n",
       "  </thead>\n",
       "  <tbody>\n",
       "    <tr>\n",
       "      <th>2633</th>\n",
       "      <td>0_2245</td>\n",
       "      <td>2022-09-23 07:22:38.636773</td>\n",
       "      <td>s_272266</td>\n",
       "      <td>c_4746</td>\n",
       "      <td>2022-09-23</td>\n",
       "      <td>07:22:38.636773</td>\n",
       "      <td>2022</td>\n",
       "      <td>9</td>\n",
       "      <td>2022-09</td>\n",
       "      <td>1</td>\n",
       "      <td>NaN</td>\n",
       "      <td>NaN</td>\n",
       "    </tr>\n",
       "    <tr>\n",
       "      <th>10103</th>\n",
       "      <td>0_2245</td>\n",
       "      <td>2022-07-23 09:24:14.133889</td>\n",
       "      <td>s_242482</td>\n",
       "      <td>c_6713</td>\n",
       "      <td>2022-07-23</td>\n",
       "      <td>09:24:14.133889</td>\n",
       "      <td>2022</td>\n",
       "      <td>7</td>\n",
       "      <td>2022-07</td>\n",
       "      <td>1</td>\n",
       "      <td>NaN</td>\n",
       "      <td>NaN</td>\n",
       "    </tr>\n",
       "    <tr>\n",
       "      <th>11723</th>\n",
       "      <td>0_2245</td>\n",
       "      <td>2022-12-03 03:26:35.696673</td>\n",
       "      <td>s_306338</td>\n",
       "      <td>c_5108</td>\n",
       "      <td>2022-12-03</td>\n",
       "      <td>03:26:35.696673</td>\n",
       "      <td>2022</td>\n",
       "      <td>12</td>\n",
       "      <td>2022-12</td>\n",
       "      <td>1</td>\n",
       "      <td>NaN</td>\n",
       "      <td>NaN</td>\n",
       "    </tr>\n",
       "    <tr>\n",
       "      <th>15670</th>\n",
       "      <td>0_2245</td>\n",
       "      <td>2021-08-16 11:33:25.481411</td>\n",
       "      <td>s_76493</td>\n",
       "      <td>c_1391</td>\n",
       "      <td>2021-08-16</td>\n",
       "      <td>11:33:25.481411</td>\n",
       "      <td>2021</td>\n",
       "      <td>8</td>\n",
       "      <td>2021-08</td>\n",
       "      <td>1</td>\n",
       "      <td>NaN</td>\n",
       "      <td>NaN</td>\n",
       "    </tr>\n",
       "    <tr>\n",
       "      <th>16372</th>\n",
       "      <td>0_2245</td>\n",
       "      <td>2022-07-16 05:53:01.627491</td>\n",
       "      <td>s_239078</td>\n",
       "      <td>c_7954</td>\n",
       "      <td>2022-07-16</td>\n",
       "      <td>05:53:01.627491</td>\n",
       "      <td>2022</td>\n",
       "      <td>7</td>\n",
       "      <td>2022-07</td>\n",
       "      <td>1</td>\n",
       "      <td>NaN</td>\n",
       "      <td>NaN</td>\n",
       "    </tr>\n",
       "    <tr>\n",
       "      <th>...</th>\n",
       "      <td>...</td>\n",
       "      <td>...</td>\n",
       "      <td>...</td>\n",
       "      <td>...</td>\n",
       "      <td>...</td>\n",
       "      <td>...</td>\n",
       "      <td>...</td>\n",
       "      <td>...</td>\n",
       "      <td>...</td>\n",
       "      <td>...</td>\n",
       "      <td>...</td>\n",
       "      <td>...</td>\n",
       "    </tr>\n",
       "    <tr>\n",
       "      <th>669533</th>\n",
       "      <td>0_2245</td>\n",
       "      <td>2021-08-25 09:06:03.504061</td>\n",
       "      <td>s_80395</td>\n",
       "      <td>c_131</td>\n",
       "      <td>2021-08-25</td>\n",
       "      <td>09:06:03.504061</td>\n",
       "      <td>2021</td>\n",
       "      <td>8</td>\n",
       "      <td>2021-08</td>\n",
       "      <td>1</td>\n",
       "      <td>NaN</td>\n",
       "      <td>NaN</td>\n",
       "    </tr>\n",
       "    <tr>\n",
       "      <th>670484</th>\n",
       "      <td>0_2245</td>\n",
       "      <td>2022-03-06 19:59:19.462288</td>\n",
       "      <td>s_175311</td>\n",
       "      <td>c_4167</td>\n",
       "      <td>2022-03-06</td>\n",
       "      <td>19:59:19.462288</td>\n",
       "      <td>2022</td>\n",
       "      <td>3</td>\n",
       "      <td>2022-03</td>\n",
       "      <td>1</td>\n",
       "      <td>NaN</td>\n",
       "      <td>NaN</td>\n",
       "    </tr>\n",
       "    <tr>\n",
       "      <th>671088</th>\n",
       "      <td>0_2245</td>\n",
       "      <td>2022-05-16 11:35:20.319501</td>\n",
       "      <td>s_209381</td>\n",
       "      <td>c_4453</td>\n",
       "      <td>2022-05-16</td>\n",
       "      <td>11:35:20.319501</td>\n",
       "      <td>2022</td>\n",
       "      <td>5</td>\n",
       "      <td>2022-05</td>\n",
       "      <td>1</td>\n",
       "      <td>NaN</td>\n",
       "      <td>NaN</td>\n",
       "    </tr>\n",
       "    <tr>\n",
       "      <th>675480</th>\n",
       "      <td>0_2245</td>\n",
       "      <td>2022-02-11 09:05:43.952857</td>\n",
       "      <td>s_163405</td>\n",
       "      <td>c_1098</td>\n",
       "      <td>2022-02-11</td>\n",
       "      <td>09:05:43.952857</td>\n",
       "      <td>2022</td>\n",
       "      <td>2</td>\n",
       "      <td>2022-02</td>\n",
       "      <td>1</td>\n",
       "      <td>NaN</td>\n",
       "      <td>NaN</td>\n",
       "    </tr>\n",
       "    <tr>\n",
       "      <th>677797</th>\n",
       "      <td>0_2245</td>\n",
       "      <td>2021-12-14 22:34:54.589921</td>\n",
       "      <td>s_134446</td>\n",
       "      <td>c_4854</td>\n",
       "      <td>2021-12-14</td>\n",
       "      <td>22:34:54.589921</td>\n",
       "      <td>2021</td>\n",
       "      <td>12</td>\n",
       "      <td>2021-12</td>\n",
       "      <td>1</td>\n",
       "      <td>NaN</td>\n",
       "      <td>NaN</td>\n",
       "    </tr>\n",
       "  </tbody>\n",
       "</table>\n",
       "<p>221 rows × 12 columns</p>\n",
       "</div>"
      ],
      "text/plain": [
       "       id_prod                       date session_id client_id   new_date  \\\n",
       "2633    0_2245 2022-09-23 07:22:38.636773   s_272266    c_4746 2022-09-23   \n",
       "10103   0_2245 2022-07-23 09:24:14.133889   s_242482    c_6713 2022-07-23   \n",
       "11723   0_2245 2022-12-03 03:26:35.696673   s_306338    c_5108 2022-12-03   \n",
       "15670   0_2245 2021-08-16 11:33:25.481411    s_76493    c_1391 2021-08-16   \n",
       "16372   0_2245 2022-07-16 05:53:01.627491   s_239078    c_7954 2022-07-16   \n",
       "...        ...                        ...        ...       ...        ...   \n",
       "669533  0_2245 2021-08-25 09:06:03.504061    s_80395     c_131 2021-08-25   \n",
       "670484  0_2245 2022-03-06 19:59:19.462288   s_175311    c_4167 2022-03-06   \n",
       "671088  0_2245 2022-05-16 11:35:20.319501   s_209381    c_4453 2022-05-16   \n",
       "675480  0_2245 2022-02-11 09:05:43.952857   s_163405    c_1098 2022-02-11   \n",
       "677797  0_2245 2021-12-14 22:34:54.589921   s_134446    c_4854 2021-12-14   \n",
       "\n",
       "                   time  year  month year_month  nombre  price  categ  \n",
       "2633    07:22:38.636773  2022      9    2022-09       1    NaN    NaN  \n",
       "10103   09:24:14.133889  2022      7    2022-07       1    NaN    NaN  \n",
       "11723   03:26:35.696673  2022     12    2022-12       1    NaN    NaN  \n",
       "15670   11:33:25.481411  2021      8    2021-08       1    NaN    NaN  \n",
       "16372   05:53:01.627491  2022      7    2022-07       1    NaN    NaN  \n",
       "...                 ...   ...    ...        ...     ...    ...    ...  \n",
       "669533  09:06:03.504061  2021      8    2021-08       1    NaN    NaN  \n",
       "670484  19:59:19.462288  2022      3    2022-03       1    NaN    NaN  \n",
       "671088  11:35:20.319501  2022      5    2022-05       1    NaN    NaN  \n",
       "675480  09:05:43.952857  2022      2    2022-02       1    NaN    NaN  \n",
       "677797  22:34:54.589921  2021     12    2021-12       1    NaN    NaN  \n",
       "\n",
       "[221 rows x 12 columns]"
      ]
     },
     "execution_count": 35,
     "metadata": {},
     "output_type": "execute_result"
    }
   ],
   "source": [
    "df1"
   ]
  },
  {
   "cell_type": "code",
   "execution_count": 36,
   "id": "c3f19c5c",
   "metadata": {},
   "outputs": [
    {
     "name": "stdout",
     "output_type": "stream",
     "text": [
      "valeur inexistante\n"
     ]
    },
    {
     "data": {
      "text/html": [
       "<div>\n",
       "<style scoped>\n",
       "    .dataframe tbody tr th:only-of-type {\n",
       "        vertical-align: middle;\n",
       "    }\n",
       "\n",
       "    .dataframe tbody tr th {\n",
       "        vertical-align: top;\n",
       "    }\n",
       "\n",
       "    .dataframe thead th {\n",
       "        text-align: right;\n",
       "    }\n",
       "</style>\n",
       "<table border=\"1\" class=\"dataframe\">\n",
       "  <thead>\n",
       "    <tr style=\"text-align: right;\">\n",
       "      <th></th>\n",
       "      <th>id_prod</th>\n",
       "      <th>price</th>\n",
       "      <th>categ</th>\n",
       "    </tr>\n",
       "  </thead>\n",
       "  <tbody>\n",
       "  </tbody>\n",
       "</table>\n",
       "</div>"
      ],
      "text/plain": [
       "Empty DataFrame\n",
       "Columns: [id_prod, price, categ]\n",
       "Index: []"
      ]
     },
     "execution_count": 36,
     "metadata": {},
     "output_type": "execute_result"
    }
   ],
   "source": [
    "#Recherche de l'id_produit \"0_2245\" dans la table product\n",
    "p=products[products.id_prod==\"0_2245\"]\n",
    "\n",
    "print(\"valeur inexistante\")\n",
    "p"
   ]
  },
  {
   "cell_type": "code",
   "execution_count": null,
   "id": "b2b5e632",
   "metadata": {},
   "outputs": [],
   "source": [
    "#fusion des df t_p et customers\n",
    "dff = pd.merge(t_p,customers,on=[\"client_id\"],how='left')\n",
    "dff.info()"
   ]
  },
  {
   "cell_type": "code",
   "execution_count": null,
   "id": "68361e42",
   "metadata": {},
   "outputs": [],
   "source": [
    "#Recherche du prix moyen des articles de la catégorie 0\n",
    "print('Catégorie 0 :',\n",
    "      # Prix moyen\n",
    "    '\\n- Prix moyen :', round(dff[dff['categ']==0.]['price'].mean(), 2), \n",
    "      # Prix médian\n",
    "    '\\n- Prix médian :', dff[dff['categ']==0.]['price'].median()) \n",
    "     "
   ]
  },
  {
   "cell_type": "code",
   "execution_count": null,
   "id": "283859a0",
   "metadata": {},
   "outputs": [],
   "source": [
    "#Remplacement des valeurs manquantes par 0. qui est le préfixe de l'id produit\n",
    "dff['categ'].replace(np.nan, 0., inplace=True)"
   ]
  },
  {
   "cell_type": "code",
   "execution_count": null,
   "id": "9c70d3be",
   "metadata": {},
   "outputs": [],
   "source": [
    "#Remplacement des valeurs manquantes par le mooyenne\n",
    "dff['price'].replace(np.nan,10.64, inplace=True)\n"
   ]
  },
  {
   "cell_type": "code",
   "execution_count": null,
   "id": "68e3b13a",
   "metadata": {},
   "outputs": [],
   "source": [
    "#Vérification\n",
    "p_nan= dff[dff['id_prod']=='0_2245']\n",
    "p_nan.head(6)"
   ]
  },
  {
   "cell_type": "code",
   "execution_count": null,
   "id": "1121f797",
   "metadata": {},
   "outputs": [],
   "source": [
    "# Vérification des données manquantes\n",
    "dff.isna().sum()"
   ]
  },
  {
   "cell_type": "code",
   "execution_count": null,
   "id": "0deac0eb",
   "metadata": {},
   "outputs": [],
   "source": [
    "df1 = dff.set_index('new_date')\n",
    "df1.head()"
   ]
  },
  {
   "cell_type": "markdown",
   "id": "ea63d5d1",
   "metadata": {},
   "source": [
    "### Résumé de la Collecte et préparation des Données\n",
    "\n",
    "**Nettoyage des Données**\n",
    "\n",
    "- **Vérification des 5 premières et 5 dernières valeurs** : Contrôle de l’intégrité des données en début et fin de table.\n",
    "- **Vérification des valeurs manquantes et nulles** : Identification et gestion des données manquantes pour assurer la qualité des analyses.\n",
    "- **Vérification des doublons** : Recherche de doublons, notamment au niveau des clés primaires, pour garantir l'unicité des enregistrements.\n",
    "- **Vérification des types de données** : Contrôle des types pour chaque colonne afin d'assurer la cohérence des données.\n",
    "\n",
    "- **Modifications appliquées** :\n",
    "   - *Tables `products` et `customers`* : Aucune modification nécessaire.\n",
    "   - *Table `transaction`* : Suppression des dates de test, modification du type de date en `datetime` et création de nouvelles colonnes (année, mois, etc.) pour faciliter l’analyse temporelle.\n",
    "   \n",
    "**Traitement des Valeurs Manquantes**\n",
    "\n",
    "- Lors de la fusion des tables `transactions` et `products`, **221 valeurs manquantes** ont été identifiées au niveau des **prix** et des **catégories**.\n",
    "- Les valeurs manquantes concernaient le produit `'0_2245'`. Les actions suivantes ont été prises :\n",
    "  - **Catégorie (Categ)** : Remplacée par `0.`, car tous les produits commençaient par la référence de leur catégorie.\n",
    "  - **Prix (Price)** : Remplacé par le **prix moyen** des produits de la catégorie `0.`, soit **10,64 €**.\n",
    "\n"
   ]
  },
  {
   "cell_type": "markdown",
   "id": "67ffbe94",
   "metadata": {},
   "source": [
    "# C- Étude du Chiffre d'Affaires"
   ]
  },
  {
   "cell_type": "markdown",
   "id": "9441da5a",
   "metadata": {},
   "source": [
    "## I- Indicateurs et graphiques autour du CA \n"
   ]
  },
  {
   "cell_type": "markdown",
   "id": "eaf366c4",
   "metadata": {},
   "source": [
    "### 1- CA annuelle"
   ]
  },
  {
   "cell_type": "code",
   "execution_count": null,
   "id": "5e18b7bd",
   "metadata": {},
   "outputs": [],
   "source": [
    "#calcul du ca par an\n",
    "ca_total=dff.groupby([\"year\"])[\"price\"].sum().reset_index()\n",
    "ca_total.rename(columns={\"price\":\"ca_total\"},inplace= True)\n",
    "ca_total"
   ]
  },
  {
   "cell_type": "code",
   "execution_count": null,
   "id": "122f0028",
   "metadata": {},
   "outputs": [],
   "source": [
    "ca_total.plot(kind='bar', x=\"year\",title='Evolution du CA par an',figsize=(10, 5), subplots=False)"
   ]
  },
  {
   "cell_type": "markdown",
   "id": "4cdbc81a",
   "metadata": {},
   "source": [
    "**En 2021, les ventes ont été enregistrées sur 10 mois, année marquant également le lancement de la vente en ligne, ce qui peut expliquer le chiffre d'affaires relativement faible enregistré. Cependant, la tendance montre une évolution positive en 2022.**\n"
   ]
  },
  {
   "cell_type": "markdown",
   "id": "2423c661",
   "metadata": {},
   "source": [
    "### 2- CA mensuelle"
   ]
  },
  {
   "cell_type": "code",
   "execution_count": null,
   "id": "28d235f1",
   "metadata": {},
   "outputs": [],
   "source": [
    "# Création df ca représentant le ca total par année/ mois\n",
    "ca1=pd.DataFrame(dff.groupby([\"year\",\"month\"])[\"price\"].sum())\n",
    "ca1.rename(columns={\"price\":\"ca_mois\"},inplace= True)\n",
    "ca=ca1.unstack(level=0)\n",
    "ca"
   ]
  },
  {
   "cell_type": "code",
   "execution_count": null,
   "id": "aba626a9",
   "metadata": {},
   "outputs": [],
   "source": [
    "#Visulisation du CA par mois \n",
    "ca1.plot(kind='line',title='Evolution du CA par mois',figsize=(10, 5), subplots=False)\n",
    "\n",
    "plt.tight_layout()"
   ]
  },
  {
   "cell_type": "markdown",
   "id": "824522c9",
   "metadata": {},
   "source": [
    "**On observe une baisse importante du CA en octobre 2021**"
   ]
  },
  {
   "cell_type": "markdown",
   "id": "1df7f1b6",
   "metadata": {},
   "source": [
    "### Zoom sur le mois d'octobre 2021"
   ]
  },
  {
   "cell_type": "code",
   "execution_count": null,
   "id": "41c9613d",
   "metadata": {},
   "outputs": [],
   "source": [
    "#Isolation des VENTES du mois d'OCTOBRE 2021 via la table v_oct_2021\n",
    "v_oct_2021=dff[(dff['new_date']>='2021-10-01') & (dff[\"new_date\"]<='2021-10-31')]\n",
    "v_oct_2021=v_oct_2021.sort_values(by=\"new_date\", ascending=True)\n",
    "v_oct_2021"
   ]
  },
  {
   "cell_type": "code",
   "execution_count": null,
   "id": "218f0775",
   "metadata": {},
   "outputs": [],
   "source": [
    "v_oct_2021.info()"
   ]
  },
  {
   "cell_type": "markdown",
   "id": "d3dd45f4",
   "metadata": {},
   "source": [
    "**Les informations semblent complètes**"
   ]
  },
  {
   "cell_type": "code",
   "execution_count": null,
   "id": "6263a558",
   "metadata": {},
   "outputs": [],
   "source": [
    "v_oct_2021.isna().sum()"
   ]
  },
  {
   "cell_type": "markdown",
   "id": "85b3695c",
   "metadata": {},
   "source": [
    "**Aucune valeur manquante**"
   ]
  },
  {
   "cell_type": "code",
   "execution_count": null,
   "id": "2eda9b30",
   "metadata": {},
   "outputs": [],
   "source": [
    "# Vérification des valeurs nulles\n",
    "v_oct_2021_nan = v_oct_2021[v_oct_2021.isnull().any(axis=1)]\n",
    "print (v_oct_2021_nan)"
   ]
  },
  {
   "cell_type": "code",
   "execution_count": null,
   "id": "54904c05",
   "metadata": {},
   "outputs": [],
   "source": [
    "#Vérification des dates \n",
    "v_oct_2021[\"new_date\"].unique()"
   ]
  },
  {
   "cell_type": "markdown",
   "id": "68b6d523",
   "metadata": {},
   "source": [
    "**Toutes les dates sont bien repésentées**"
   ]
  },
  {
   "cell_type": "code",
   "execution_count": null,
   "id": "55ed2099",
   "metadata": {},
   "outputs": [],
   "source": [
    "#Vérification des catégories\n",
    "v_oct_2021[\"categ\"].unique()"
   ]
  },
  {
   "cell_type": "markdown",
   "id": "79dc156b",
   "metadata": {},
   "source": [
    "**Toutes les troois catégories de produit sont bien repésentées**"
   ]
  },
  {
   "cell_type": "code",
   "execution_count": null,
   "id": "408226cb",
   "metadata": {},
   "outputs": [],
   "source": [
    "#Vente journalière par catégorie\n",
    "vjc=pd.DataFrame(v_oct_2021.groupby([\"new_date\",\"categ\"])[\"price\"].sum())\n",
    "vjc.rename(columns={\"price\":\"ca_jour\"},inplace= True)\n",
    "vjc_oct_2021=vjc.unstack(level=1)\n",
    "print(\"Vente journalière du mois d'octobre par catégorie\")\n",
    "vjc_oct_2021"
   ]
  },
  {
   "cell_type": "code",
   "execution_count": null,
   "id": "85d5825a",
   "metadata": {},
   "outputs": [],
   "source": [
    "vjc_oct_2021.plot(kind='line',figsize=(10, 5), subplots=False)\n",
    "\n",
    "plt.tight_layout()\n",
    "print( \"Absence des transactions sur les produits de la catégorie 1.0 pendant la période du 02 au 27 Octobre 2021\")"
   ]
  },
  {
   "cell_type": "markdown",
   "id": "d898bcdf",
   "metadata": {},
   "source": [
    "**Des valeurs manquantes ont été observées pour les produits de la catégorie 1.0 entre le 2 et le 27 octobre 2021, ce qui pourrait probablement expliquer la baisse du chiffre d'affaires enregistré durant cette période.**"
   ]
  },
  {
   "cell_type": "code",
   "execution_count": null,
   "id": "17bc4055",
   "metadata": {},
   "outputs": [],
   "source": [
    "len(v_oct_2021)*100/len(dff)\n",
    "print(\" Le mois d'octobre représente\",round(len(v_oct_2021)*100/len(dff),2), \"%des données\")"
   ]
  },
  {
   "cell_type": "markdown",
   "id": "158cd639",
   "metadata": {},
   "source": [
    "**Les données du mois d'octobre 2021 représentent un volume de 3,18 % . L'absence de ces valeurs pourrait être due à un bug informatique, une rupture de stock, ou d'autres causes. N'ayant pas suffisamment d'indications pour imputer les valeurs manquantes de manière précise, la décision a été prise de supprimer l'ensemble des données de cette période afin de ne pas biaiser les résultats de l'analyse.**"
   ]
  },
  {
   "cell_type": "code",
   "execution_count": null,
   "id": "53d1a4e2",
   "metadata": {},
   "outputs": [],
   "source": [
    "#Suppression des valeurs de la période et Création df représentant, les données sans ceux de la période\n",
    "\n",
    "df= dff.drop(v_oct_2021.index).copy()\n",
    "df"
   ]
  },
  {
   "cell_type": "code",
   "execution_count": null,
   "id": "4fb072f2",
   "metadata": {},
   "outputs": [],
   "source": [
    "# Création df ca représentant le ca total par année/ mois\n",
    "ca_new=pd.DataFrame(df.groupby([\"year\",\"month\"])[\"price\"].sum())\n",
    "ca_new.rename(columns={\"price\":\"ca_mois\"},inplace= True)\n",
    "ca_mensuel=ca_new.unstack(level=0)\n",
    "ca_mensuel"
   ]
  },
  {
   "cell_type": "code",
   "execution_count": null,
   "id": "d79968d8",
   "metadata": {},
   "outputs": [],
   "source": [
    "#Visulisation du CA par mois \n",
    "ca_mensuel.plot(kind='line',title='Evolution du CA par mois',figsize=(10, 5), subplots=False)\n",
    "\n",
    "plt.tight_layout()"
   ]
  },
  {
   "cell_type": "markdown",
   "id": "e9973119",
   "metadata": {},
   "source": [
    "On note :\n",
    "- **Des périodes de performance** : Principalement en janvier (2022), juillet (2022), et décembre (2021 et 2022).\n",
    "- **Des périodes de stabilisation** : De mars à mai (2021), de juin à août (2021), et de mars à avril (2022).\n",
    "\n",
    "Ces périodes montrent des moments clés où l’entreprise parvient soit à maximiser ses ventes (périodes de performance), soit à maintenir un rythme stable (périodes de stabilisation).\n"
   ]
  },
  {
   "cell_type": "markdown",
   "id": "02ed1f2e",
   "metadata": {},
   "source": [
    "### 3 - Répartition des ventes par catégorie"
   ]
  },
  {
   "cell_type": "markdown",
   "id": "0e00a13a",
   "metadata": {},
   "source": [
    "### 3-a- Répartition des produits par catégorie ( prix et volume)"
   ]
  },
  {
   "cell_type": "code",
   "execution_count": null,
   "id": "2e1efd45",
   "metadata": {},
   "outputs": [],
   "source": [
    "#volume des ventes par date et catégorie\n",
    "plt.figure(figsize=(12,8))\n",
    "sns.histplot(data=df, x='new_date', hue='categ', palette=[\"#FF9A16\", \"#E7174A\",\"#000000\"])\n",
    "plt.title('Volume des ventes par date et catégorie')\n",
    "\n",
    "plt.show()"
   ]
  },
  {
   "cell_type": "code",
   "execution_count": null,
   "id": "944b6358",
   "metadata": {},
   "outputs": [],
   "source": [
    "# Création df ca_p_volume représentant le volume journalier par catégorie \n",
    "# ainsi que le nombre d'articles vendus\n",
    "\n",
    "ca_p_volume= pd.DataFrame(df.groupby([\"year_month\",\"categ\"])[\"id_prod\"].count())\n",
    "ca_p_volume.rename(columns={\"id_prod\":\"nbre_produit\"},inplace= True)\n",
    "ca_p_volume=ca_p_volume.unstack(level=1)\n",
    "\n",
    "#Graphique\n",
    "ca_p_volume.plot(kind='line',title='Evolution du volume des ventes journalières par catégorie)', figsize=(10,8),subplots=False)\n",
    "\n",
    "plt.show()\n"
   ]
  },
  {
   "cell_type": "markdown",
   "id": "81f3a6c2",
   "metadata": {},
   "source": [
    "### 3-b-  Evolution et saisonnalité du CA/ volume de vente par catégorie de produit \n"
   ]
  },
  {
   "cell_type": "code",
   "execution_count": null,
   "id": "36542f83",
   "metadata": {},
   "outputs": [],
   "source": [
    "# Création df ca_p_categorie représentant le ca journalier par catégorie \n",
    "# ainsi que le nombre d'articles vendus\n",
    "\n",
    "ca_p_categorie= pd.DataFrame(df.groupby([\"year_month\",\"categ\"])[\"price\"].sum())\n",
    "ca_p_categorie.rename(columns={\"price\":\"ca_prod\"},inplace= True)\n",
    "ca_p_categorie=ca_p_categorie.unstack(level=1)\n",
    "\n",
    "#Graphique\n",
    "ca_p_categorie.plot(kind='line',title='Evolution du CA des ventes journalières par catégorie)', figsize=(10,8),subplots=False)\n",
    "\n",
    "plt.show()\n"
   ]
  },
  {
   "cell_type": "markdown",
   "id": "13e2b3e9",
   "metadata": {},
   "source": [
    "En dehors d'une période de fluctuation entre Septembre 2021 et Février 2022, les ventes sont linéaires pour chacune des catégories. Il n'y a pas une réelle saisonnalité"
   ]
  },
  {
   "cell_type": "markdown",
   "id": "417f05db",
   "metadata": {},
   "source": [
    "**Zoom sur la période de septembre 2021 et Mars 2022**"
   ]
  },
  {
   "cell_type": "code",
   "execution_count": null,
   "id": "c7ec337f",
   "metadata": {},
   "outputs": [],
   "source": [
    "# Zoom sur la période de septembre 2021 et Mars 2022\n",
    "# Isolation des datas de la période\n",
    "df2=df[(df['new_date']>='2021-08-31') & (df[\"new_date\"]<='2022-03-01')]\n",
    "\n",
    "# Création df ca_p représentant le ca total par produit /année/ mois et le nombre d'article vendu par référence\n",
    "ca_p_periode= pd.DataFrame(df2.groupby([\"new_date\",\"categ\"])[\"price\"].sum())\n",
    "ca_p_periode.rename(columns={\"price\":\"ca_prod\"},inplace= True)\n",
    "\n",
    "ca_p_periode=ca_p_periode.unstack(level=1)\n",
    "ca_p_periode.plot(kind='line', figsize=(10,6),subplots=False)\n",
    "\n",
    "plt.show()"
   ]
  },
  {
   "cell_type": "markdown",
   "id": "4af1bb39",
   "metadata": {},
   "source": [
    "Sur la période, le CA des catégories 1 et 0 a une tendance haussière ( d'ailleurs, ils atteignent leurs pics haut à cette période) tandis qu'on observe une baisse de ceux de la catégorie 0. Ils ateignent d'ailleur leur pic bas."
   ]
  },
  {
   "cell_type": "markdown",
   "id": "b3046520",
   "metadata": {},
   "source": [
    "Un évènement marquant (confinement dû au Covid19, solde, salon, foire, ...) peut permettre de justifier cela mais, nous n'avons pas d'éléments à ce sujet."
   ]
  },
  {
   "cell_type": "markdown",
   "id": "c718f1d9",
   "metadata": {},
   "source": [
    "### 3-c- CA par catégorie de produit"
   ]
  },
  {
   "cell_type": "code",
   "execution_count": null,
   "id": "680abb2a",
   "metadata": {},
   "outputs": [],
   "source": [
    "#Ca par catégorie de produit et volume de vente\n",
    "\n",
    "ca_categ=df.groupby([\"categ\"])[\"price\",\"nombre\"].sum().reset_index()\n",
    "ca_categ.rename(columns={\"price\":\"ca_produit\", \"nombre\":\"nbre_article\"},inplace= True)\n",
    "\n",
    "ca_categ.head()"
   ]
  },
  {
   "cell_type": "code",
   "execution_count": null,
   "id": "49d94e31",
   "metadata": {},
   "outputs": [],
   "source": [
    "# Proportion des ventes  par categorie de produit\n",
    "plt.figure(figsize=(7,5))\n",
    "df['categ'].value_counts(normalize=True).plot(\n",
    "    kind='pie',\n",
    "    legend=True,\n",
    "    autopct='%1.1f%%')\n",
    "plt.title('Volume des ventes par categorie de produit')\n",
    "\n",
    "# Proportion CA  par categorie de produit\n",
    "\n",
    "plt.figure(figsize=(10,6))\n",
    "ax2 = plt.subplot(121, aspect='equal')\n",
    "ca_categ.plot(kind='pie',\n",
    "               y = 'ca_produit',\n",
    "               ax=ax2,\n",
    "               autopct='%1.1f%%', \n",
    "               #startangle=90,\n",
    "               shadow=False,\n",
    "               labels=ca_categ[\"categ\"],\n",
    "               legend = True)\n",
    "plt.title('CA par categorie de produit')\n",
    "\n",
    "plt.show()"
   ]
  },
  {
   "cell_type": "markdown",
   "id": "006e6d1c",
   "metadata": {},
   "source": [
    "les articles de la catégorie 2 représentent 5,4% de volume de vente.Ce qui équivaut 1/4 du CA global sur la période. \n",
    "Cela peut s'expliquer par le prix des articles très élévé par rapport à celui des autres catégories.\n",
    "\n",
    "Les articles de la catégorie 0 quant à eux sont ceux les plus vendus mais ne represéntent que 37% du CA  ( la gamme est très large et les prix sont bas)\n",
    "Enfin , les ventes des produits la catégorie 1 sont relativement proportionnelles au CA réalisé"
   ]
  },
  {
   "cell_type": "markdown",
   "id": "8e3037b9",
   "metadata": {},
   "source": [
    "**Distribution et moyenne des prix par catégorie**"
   ]
  },
  {
   "cell_type": "code",
   "execution_count": null,
   "id": "3e77fac3",
   "metadata": {},
   "outputs": [],
   "source": [
    "# Distribution et moyenne des prix par catégorie\n",
    "X = \"categ\" # qualitative\n",
    "Y = \"price\" # quantitative\n",
    "modalites = df[X].unique()\n",
    "groupes = []\n",
    "for m in modalites:\n",
    "    groupes.append(df[df[X]==m][Y])\n",
    "\n",
    "# Propriétés graphiques (pas très importantes)    \n",
    "medianprops = {'color':\"black\"}\n",
    "meanprops = {'marker':'o', 'markeredgecolor':'black',\n",
    "            'markerfacecolor':'firebrick'}\n",
    "    \n",
    "plt.boxplot(groupes, labels=modalites, showfliers=False, medianprops=medianprops, \n",
    "            vert=False, patch_artist=True, showmeans=True, meanprops=meanprops)\n",
    "print(\"Distribution et moyenne des prix par catégorie\")\n",
    "plt.show()"
   ]
  },
  {
   "cell_type": "markdown",
   "id": "ec39c84b",
   "metadata": {},
   "source": [
    "La distribution du prix de vente des produits de la **catégorie 2** présente une grande disparité : la moyenne est très supérieure à la médiane, indiquant la présence de produits dont le prix de vente est très élevé par rapport aux autres, sans pour autant être des outliers. \n",
    "\n",
    "La distribution des produits de la **catégorie 1** est **positivement asymétrique**, tandis que celle des produits de la **catégorie 0** est **approximativement symétrique** (c'est la distribution la plus concentrée).\n"
   ]
  },
  {
   "cell_type": "markdown",
   "id": "92a24616",
   "metadata": {},
   "source": [
    "**Nombre de produit par categorie**"
   ]
  },
  {
   "cell_type": "code",
   "execution_count": null,
   "id": "8a14018c",
   "metadata": {},
   "outputs": [],
   "source": [
    "#\"Nombre de produit par categorie\n",
    "p_categ=df.groupby([\"categ\"])[\"id_prod\"].count().reset_index()\n",
    "p_categ.rename(columns={\"id_prod\":\"nbre_article\"},inplace= True)\n",
    "p_categ\n",
    "\n",
    "plt.figure(figsize=(10,6))\n",
    "sns.barplot(y=p_categ['nbre_article'], x=p_categ['categ'], palette=\"Reds_r\")\n",
    "plt.ylabel('\\nNombre de produit', fontsize=15, color='#c0392b')\n",
    "plt.xlabel(\"categorie\\n\", fontsize=15, color='#c0392b')\n",
    "plt.title(\"Nombre de produit par categorie\\n\", fontsize=18, color='#e74c3c')\n",
    "plt.xticks(rotation= 45)\n",
    "plt.tight_layout()"
   ]
  },
  {
   "cell_type": "markdown",
   "id": "0281ef2f",
   "metadata": {},
   "source": [
    "Les produits de la catégorie 2 se distingent par leur gamme très courte et leur prix élévés par rapport aux deux autres catégories"
   ]
  },
  {
   "cell_type": "markdown",
   "id": "8c39339d",
   "metadata": {},
   "source": [
    "## II- Suivi de l'évolution du chiffre d'affaires dans le temps (Moyenne mobile)"
   ]
  },
  {
   "cell_type": "code",
   "execution_count": null,
   "id": "dc2adadd",
   "metadata": {
    "scrolled": true
   },
   "outputs": [],
   "source": [
    "# Evolution dans le temps et mise en place d'une décomposition en moyenne mobile pour évaluer la tendance globale\n",
    "\n",
    "\n",
    "#CALCUL DU ca journalier (ca_j)\n",
    "\n",
    "ca_j=pd.DataFrame(df.groupby([\"new_date\"])[\"price\"].sum())\n",
    "ca_j.rename(columns={\"price\":\"ca_jour\"},inplace= True)\n",
    "ca_j\n",
    "\n",
    "ca_j.loc[:,'Moyenne glissante mensuelle'] = ca_j['ca_jour'].rolling(window=30).mean()\n",
    "\n",
    "plt.plot(ca_j)\n",
    "\n",
    "plt.xticks(rotation=45,fontsize=10)\n",
    "\n",
    "plt.legend(ca_j.columns)\n",
    "\n",
    "plt.figsize=(10, 5)\n",
    "\n",
    "plt.grid(axis='y')\n",
    "\n",
    "plt.title('Moyenne mobile')\n",
    "\n"
   ]
  },
  {
   "cell_type": "markdown",
   "id": "bfed18d6",
   "metadata": {},
   "source": [
    "les ventes présentent une forte varaiblité reflétant les fluctuations dues à divers facteurs comme la saisonnalité, les promotions, ou la demande journalière du marché., entre septembre 2021 et Mars 2022 On note une tendance haussière  . Pour le reste, la serie est stable et suit son évolution. Cela indique que le chiffre d'affaires journalier est revenu à un niveau plus constant après la volatilité observée pendant la période de pic.\n",
    "Une analyse plus approfondie pourrait inclure l'examen des facteurs externes qui coïncident avec les pics ou les périodes de stabilisation identifiés afin de mieux comprendre les moteurs des fluctuations de chiffre d'affaires."
   ]
  },
  {
   "cell_type": "markdown",
   "id": "8b448d79",
   "metadata": {},
   "source": [
    "### III- Analyse des produits les plus populaires (tops/flops)\n"
   ]
  },
  {
   "cell_type": "markdown",
   "id": "4b462a61",
   "metadata": {},
   "source": [
    "#### 1- Tops "
   ]
  },
  {
   "cell_type": "code",
   "execution_count": null,
   "id": "fc91ae1c",
   "metadata": {},
   "outputs": [],
   "source": [
    "caj=pd.DataFrame(df.groupby([\"categ\",\"id_prod\",\"price\"])[\"price\",\"nombre\"].sum())\n",
    "caj.rename(columns={\"price\":\"ca_produit\", \"nombre\":\"nbre_article\"},inplace= True)\n",
    "caj_flop=caj.sort_values(by=\"nbre_article\", ascending=True)\n",
    "print(\"Flops des références\")\n",
    "caj_flop.head(25)"
   ]
  },
  {
   "cell_type": "markdown",
   "id": "096144ba",
   "metadata": {},
   "source": [
    "#### 2- Flops"
   ]
  },
  {
   "cell_type": "code",
   "execution_count": null,
   "id": "0fb3ef32",
   "metadata": {},
   "outputs": [],
   "source": [
    "caj_top=caj.sort_values(by=\"nbre_article\", ascending=False)\n",
    "\n",
    "print(\"Tops des références\")\n",
    "caj_top.head(30)\n"
   ]
  },
  {
   "cell_type": "markdown",
   "id": "96c471e7",
   "metadata": {},
   "source": [
    "Les 20 produits les moins vendus sont ceux de la catégorie 2 et 0.\n",
    "\n",
    "Les 20 produits les plus vendus sont ceux de la catégorie 1\n",
    "\n",
    "N'ayant pas d'information sur les ventes( date de mise en vente) nous ne pouvons émettre une récommandation\n"
   ]
  },
  {
   "cell_type": "markdown",
   "id": "a8edaaf0",
   "metadata": {},
   "source": [
    "## Synthèse du CA \n",
    "\n",
    "Le **CA** de l'année **2021** est relativement bas, car il s'agit de l'année de mise en ligne et les ventes ont été effectuées sur **10 mois**. Cependant, une tendance **positive** et **croissante** est observée en **2022**, montrant l’adaptation et l’expansion du marché.\n",
    "\n",
    "L'analyse du **CA mensuel** montre une **chute significative** en **octobre 2021** en raison de l'absence de transactions sur les produits de la **catégorie 1** sur la période du **2 au 27 octobre 2021**. Cette absence peut être due à un **bug informatique** ou à une **rupture de stock**. En l'absence de données suffisantes pour estimer ces valeurs, il a été décidé de **supprimer** les données d'octobre afin de ne pas biaiser les résultats.\n",
    "\n",
    "On note donc :\n",
    "\n",
    "- **Des périodes de performance** : Les mois de **janvier 2022**, **juillet 2022**, ainsi que **décembre 2021/2022** se démarquent comme des périodes de **forte performance** où le CA atteint des niveaux élevés.\n",
    "- **Des périodes de stabilisation** : Les périodes de **mars à mai 2021**, **juin à août 2021**, et **mars à avril 2022** montrent une stabilisation du CA, où il se maintient à un niveau cohérent, assurant une continuité des ventes.\n",
    "\n",
    "### Concernant les produits :\n",
    "\n",
    "### Catégorie 2 : Produits Premium à Forte Valeur Ajoutée, Flop 20 des ventes\n",
    "\n",
    "- Gamme restreinte de produits avec des **prix élevés**, contribuant à **25 %** du chiffre d’affaires global malgré un **volume de vente relativement faible** (5,4 %).\n",
    "- La moyenne des prix est significativement **supérieure à la médiane**, suggérant la présence de quelques **produits très coûteux** qui, bien que non considérés comme des valeurs aberrantes, influencent fortement la moyenne.\n",
    "\n",
    "#### Évolution des Ventes :\n",
    "- Une **baisse du chiffre d’affaires** est observée entre **septembre 2021 et février 2022**, ce qui pourrait indiquer une saisonnalité ou des fluctuations de la demande spécifiques à ces produits.\n",
    "- Cette baisse pourrait également être liée à la nature des produits (articles de **luxe** ou à **haute valeur ajoutée**), sensibles aux variations saisonnières ou à des événements spécifiques (par exemple, baisse de la demande en dehors des périodes de fête ou d’offres promotionnelles).\n",
    "- En dehors de la période mentionnée, les ventes se **stabilisent**, suggérant que ces produits conservent une **demande de base constante** malgré leur positionnement haut de gamme.\n",
    "\n",
    "### Catégorie 1 : Produits à Prix Moyen et Volume Élevé, top 20 des ventes\n",
    "\n",
    "- Gamme de produits à **prix moyen** avec une distribution **positivement asymétrique** : la majorité des produits se situe dans la gamme de prix **inférieure ou moyenne**.\n",
    "- Quelques produits ont des prix significativement plus élevés que la médiane, mais ils ne sont pas assez nombreux pour influencer fortement la moyenne, contrairement à la **catégorie 2**.\n",
    "\n",
    "#### Corrélation entre Volume de Vente et Chiffre d’Affaires :\n",
    "- Les ventes de cette catégorie sont **proportionnelles** au chiffre d’affaires généré, montrant une **corrélation directe** entre le volume de produits vendus et leur contribution au chiffre d’affaires.\n",
    "\n",
    "#### Évolution des Ventes :\n",
    "- Forte **croissance du volume de ventes** entre **septembre 2021 et février 2022**, atteignant un pic. Cette période pourrait correspondre à une **demande accrue** ou à des **promotions** ayant stimulé les ventes.\n",
    "- En dehors de cette période, les ventes se **stabilisent**, suggérant une **demande de base constante**, reflet de la fidélité des consommateurs ou d’un besoin récurrent pour ces produits.\n",
    "\n",
    "### Catégorie 0 : Produits Accessibles à Fort Volume, Flop 20 des ventes\n",
    "\n",
    "- Gamme étendue de produits à **prix bas**, avec une distribution des prix concentrée autour de la **médiane**, faisant de cette catégorie la plus **homogène** en termes de répartition des prix.\n",
    "\n",
    "#### Contribution au Chiffre d’Affaires :\n",
    "- Bien que cette catégorie représente le plus **haut volume de ventes** (60 %), elle ne contribue qu’à **37 %** du chiffre d’affaires global en raison de ses produits à faible prix.\n",
    "- Cela montre que, bien que cette catégorie soit un pilier en termes de volume, elle n’a pas le même **impact financier** que les autres catégories.\n",
    "\n",
    "#### Évolution des Ventes :\n",
    "- Entre **septembre 2021 et février 2022**, la catégorie 0 connaît une **tendance haussière**, atteignant un pic de ventes similaire à celui de la catégorie 1.\n",
    "- En dehors de ces périodes de pic, les ventes restent **stables**, indiquant une demande **régulière** et une constance dans les comportements d’achat des consommateurs.\n",
    "\n",
    "---\n",
    "\n",
    "L’analyse met en évidence des dynamiques de vente et des contributions au chiffre d'affaires qui varient selon les catégories de produits. Les prix jouent un rôle crucial, notamment pour la **catégorie 2**, qui, bien que peu vendue en volume, génère une part importante du CA. Les **catégories 0** et **1**, en revanche, montrent une influence plus proportionnelle au volume de vente. Pour une analyse plus fine, il serait pertinent d’examiner les facteurs externes qui coïncident avec les pics ou les périodes de stabilisation afin de mieux comprendre les moteurs des fluctuations du chiffre d'affaires.\n",
    "\n",
    "En l’absence d’information sur les dates de mise en vente de ces produits, il est difficile d’émettre une analyse précise sur les tops et les flops des références vendues.\n"
   ]
  },
  {
   "cell_type": "markdown",
   "id": "2ceb2b6f",
   "metadata": {},
   "source": [
    "# D- Analyse des Comportements Clients"
   ]
  },
  {
   "cell_type": "markdown",
   "id": "a5fa0055",
   "metadata": {},
   "source": [
    "## I- Profilage"
   ]
  },
  {
   "cell_type": "markdown",
   "id": "bc7b4a3f",
   "metadata": {},
   "source": [
    "### 1- Profil par type de client\n",
    "\n",
    "Proportion et répartition du CA\n"
   ]
  },
  {
   "cell_type": "code",
   "execution_count": null,
   "id": "2e7950aa",
   "metadata": {},
   "outputs": [],
   "source": [
    "#création de la colonne classe d'âge\n",
    "df['classe_age'] = pd.cut(x=df['age'], bins=[18,30,40,50,60,70,80,120])\n",
    "df"
   ]
  },
  {
   "cell_type": "markdown",
   "id": "9ea72089",
   "metadata": {},
   "source": [
    "**Nombre de sessions( de transactions) par client**"
   ]
  },
  {
   "cell_type": "code",
   "execution_count": null,
   "id": "c0866e10",
   "metadata": {},
   "outputs": [],
   "source": [
    "# création de la table ca_cl1 qui représente nombre de session/ client\n",
    "ca_cl1= df.groupby([\"client_id\",\"sex\",\"age\"])[\"session_id\"].count()\n",
    "\n",
    "ca_cl1 = ca_cl1.reset_index()\n",
    "ca_cl1=ca_cl1.sort_values(by=\"session_id\", ascending=False)\n",
    "ca_cl1.rename(columns={\"session_id\":\"Nombre de transaction\"},inplace= True)\n",
    "print(\"nombre de session/ client\")\n",
    "ca_cl1.head(20)"
   ]
  },
  {
   "cell_type": "markdown",
   "id": "be35deab",
   "metadata": {},
   "source": [
    "Les 4 premiers clients ont un nombre de transactions très élevé par rapport au reste des clients."
   ]
  },
  {
   "cell_type": "code",
   "execution_count": null,
   "id": "ac9e6338",
   "metadata": {},
   "outputs": [],
   "source": [
    "# Zoom sur ses clients\n",
    "liste_client=[\"c_1609\",\"c_6714\",\"c_3454\",\"c_4958\"]\n",
    "df_liste_client=df.loc[df[\"client_id\"].isin(liste_client),:]\n",
    "df_liste_client"
   ]
  },
  {
   "cell_type": "code",
   "execution_count": null,
   "id": "c8fd8600",
   "metadata": {},
   "outputs": [],
   "source": [
    "# nombre de fois qu'une reférence est achetée lors d'une même session\n",
    "\n",
    "ref_session=df_liste_client.groupby([\"new_date\",\"session_id\",\"id_prod\"])[\"nombre\"].sum()\\\n",
    ".reset_index().sort_values(by=\"nombre\", ascending=False)\n",
    "print(\"Nombre de fois qu'une reférence est achetée lors d'une même session\")\n",
    "ref_session[\"nombre\"].unique()\n"
   ]
  },
  {
   "cell_type": "code",
   "execution_count": null,
   "id": "0e1e1637",
   "metadata": {},
   "outputs": [],
   "source": [
    "#Nombre de produit acheté lors d'une session\n",
    "\n",
    "prod_session =df_liste_client.groupby([\"new_date\",\"session_id\"])[\"id_prod\"].count().reset_index().sort_values(by=\"new_date\", ascending=False)\n",
    "print(\"Nombre de produit acheté lors d'une session\")\n",
    "prod_session[\"id_prod\"].unique()"
   ]
  },
  {
   "cell_type": "markdown",
   "id": "16824f7b",
   "metadata": {},
   "source": [
    "**Les clients achètent au maximum 2 articles identiques par session**. Ils peuvent acheter jusqu'à 11 produits par session. La récurrence des achats ne semble pas être un bug ; il s'agit probablement de professionnels (revendeurs, responsables d'achat d'un organisme, etc.).\n",
    "\n"
   ]
  },
  {
   "cell_type": "code",
   "execution_count": null,
   "id": "058caff3",
   "metadata": {},
   "outputs": [],
   "source": [
    "# Création d'une variable 'Type' de client (2 modalités : particulier ou professionnel)\n",
    "liste_client=[\"c_1609\",\"c_6714\",\"c_3454\",\"c_4958\"]\n",
    "df['client_type'] = 'b_to_c'\n",
    "df['client_type'].loc[df['client_id'].isin(liste_client)]='b_to_b'\n",
    "\n",
    "\n",
    "# Création de 2 datasets\n",
    "df_b2b = df[df['client_type']=='b_to_b']\n",
    "df_b2c = df[df['client_type']=='b_to_c']\n",
    "\n",
    "df.sample(3)"
   ]
  },
  {
   "cell_type": "code",
   "execution_count": null,
   "id": "ecc656be",
   "metadata": {},
   "outputs": [],
   "source": [
    "# création de la table ca_client qui représente client b to c\n",
    "ca_client_b2c= df_b2c.groupby([\"client_id\"])[\"price\"].sum().reset_index()\n",
    "ca_client_b2c.rename(columns={\"price\":\"ca\"},inplace= True)\n",
    "ca_client_b2c=ca_client_b2c.sort_values(by=\"ca\", ascending=False)"
   ]
  },
  {
   "cell_type": "markdown",
   "id": "260709c0",
   "metadata": {},
   "source": [
    "#### Proportion et répartition du CA par type de client\n",
    " "
   ]
  },
  {
   "cell_type": "code",
   "execution_count": null,
   "id": "2459c4a3",
   "metadata": {},
   "outputs": [],
   "source": [
    "# Proportion des ventes entre professionnels et particuliers\n",
    "plt.figure(figsize=(7,5))\n",
    "df['client_type'].value_counts(normalize=True).plot(\n",
    "    kind='pie',\n",
    "    legend=True,\n",
    "    autopct='%1.1f%%')\n",
    "plt.title('Proportion par type de client')\n",
    "\n",
    "#Création de la table ca_client_type qui représente le CA par type de client\n",
    "ca_client_type=df.groupby([\"client_type\"])[\"price\"].sum().reset_index()\n",
    "ca_client_type.rename(columns={\"price\":\"ca_client_type\"},inplace= True)\n",
    "ca_client_type=ca_client_type.sort_values(by=\"ca_client_type\", ascending=False)\n",
    "\n",
    "plt.figure(figsize=(14,6))\n",
    "ax2 = plt.subplot(121, aspect='equal')\n",
    "ca_client_type.plot(kind='pie',\n",
    "               y = 'ca_client_type',\n",
    "               ax=ax2,\n",
    "               autopct='%1.1f%%', \n",
    "               #startangle=90,\n",
    "               shadow=False,\n",
    "               labels=ca_client_type[\"client_type\"],\n",
    "               legend = True)\n",
    "plt.title(\"Repartition du CA par type de client\")\n",
    "plt.show()"
   ]
  },
  {
   "cell_type": "markdown",
   "id": "06d54f91",
   "metadata": {},
   "source": [
    "La repartion des clients est proportionnelle au CA genéré par chaque type de client."
   ]
  },
  {
   "cell_type": "markdown",
   "id": "6fa6cbff",
   "metadata": {},
   "source": [
    "### 2 - Profil par genre\n",
    "\n",
    "Proportion et répartition du CA "
   ]
  },
  {
   "cell_type": "code",
   "execution_count": null,
   "id": "698fa99f",
   "metadata": {},
   "outputs": [],
   "source": [
    "#Repartition des clients par âge \n",
    "cl_age=df_b2c .groupby([\"age\"])[\"client_id\"].count().reset_index()\n",
    "cl_age.rename(columns={\"client_id\":\"nbre_client\"},inplace= True)\n",
    "#cl_age=cl_age.sort_values(by=\"nbre_client\", ascending=False)\n",
    "\n",
    "#Repartition des clients par sexe\n",
    "cl_sex=df_b2c.groupby([\"sex\"])[\"client_id\"].count().reset_index()\n",
    "cl_sex.rename(columns={\"client_id\":\"nbre_client\"},inplace= True)\n",
    "#cal_sex=cal_sex.sort_values(by=\"nbre_client\", ascending=False)\n",
    "\n",
    "#Repartition du CA clients par âge \n",
    "ca_age=df_b2c .groupby([\"age\"])[\"price\"].sum().reset_index()\n",
    "ca_age.rename(columns={\"price\":\"ca_client\"},inplace= True)\n",
    "#cl_age=cl_age.sort_values(by=\"nbre_client\", ascending=False)\n",
    "\n",
    "#Repartition du CA clients par sexe\n",
    "ca_sex=df_b2c.groupby([\"sex\"])[\"price\"].sum().reset_index()\n",
    "ca_sex.rename(columns={\"price\":\"ca_client\"},inplace= True)\n",
    "#cal_sex=cal_sex.sort_values(by=\"nbre_client\", ascending=False)"
   ]
  },
  {
   "cell_type": "code",
   "execution_count": null,
   "id": "11ec5f79",
   "metadata": {},
   "outputs": [],
   "source": [
    "ca_cl_age =pd.merge(cl_age, ca_age, on=[\"age\"], how=\"left\")\n",
    "ca_cl_age['ca_en_1000']=round((ca_cl_age[\"ca_client\"]/100),2)\n",
    "ca_cl_age"
   ]
  },
  {
   "cell_type": "markdown",
   "id": "7e896ef7",
   "metadata": {},
   "source": [
    "### Proportion et répartition du CA "
   ]
  },
  {
   "cell_type": "code",
   "execution_count": null,
   "id": "60d232bd",
   "metadata": {},
   "outputs": [],
   "source": [
    "# Graphiques genre\n",
    "\n",
    "plt.figure(figsize=(10,6))\n",
    "ax2 = plt.subplot(121, aspect='equal')\n",
    "cl_sex.plot(kind='pie',\n",
    "               y = 'nbre_client',\n",
    "               ax=ax2,\n",
    "               autopct='%1.1f%%', \n",
    "               #startangle=90,\n",
    "               shadow=False,\n",
    "               labels=cl_sex[\"sex\"],\n",
    "               legend = False)\n",
    "plt.title(\"Repartition des clients par genre\")\n",
    "\n",
    "plt.figure(figsize=(10,6))\n",
    "ax2 = plt.subplot(122, aspect='equal')\n",
    "ca_sex.plot(kind='pie',\n",
    "               y = 'ca_client',\n",
    "               ax=ax2,\n",
    "               autopct='%1.1f%%', \n",
    "               #startangle=90,\n",
    "               shadow=False,\n",
    "               labels=ca_sex[\"sex\"],\n",
    "               legend = False)\n",
    "plt.title(\"Repartition CA par genre\")\n",
    "\n",
    "plt.show()"
   ]
  },
  {
   "cell_type": "markdown",
   "id": "6a2571fe",
   "metadata": {},
   "source": [
    "Le chiffre d'affaires généré est proportionnel au genre, avec une répartition presque égale entre les deux sexes."
   ]
  },
  {
   "cell_type": "markdown",
   "id": "f3e3ee16",
   "metadata": {},
   "source": [
    "### 3- Profil par âge\n",
    "Proportion et répartition du CA par âge"
   ]
  },
  {
   "cell_type": "code",
   "execution_count": null,
   "id": "64936155",
   "metadata": {
    "scrolled": true
   },
   "outputs": [],
   "source": [
    "#Distribution des âges\n",
    "sns.boxplot(data=df_b2c, x='age', showfliers=False)\n",
    "sns.violinplot(data=df_b2c, x='age', showfliers=False)\n",
    "plt.title('Distribution des âges')\n",
    "\n",
    "plt.show()"
   ]
  },
  {
   "cell_type": "markdown",
   "id": "530f0253",
   "metadata": {},
   "source": [
    "L'âge moyen des clients est de 45 ans, la majorité ayant entre 35 et 52 ans."
   ]
  },
  {
   "cell_type": "code",
   "execution_count": null,
   "id": "f452575b",
   "metadata": {},
   "outputs": [],
   "source": [
    "import numpy as np\n",
    "import matplotlib.pyplot as plt\n",
    "%matplotlib inline\n",
    "x = ca_cl_age[\"age\"]\n",
    "y1 =ca_cl_age['nbre_client']\n",
    "y2 = ca_cl_age[\"ca_client\"]\n",
    "\n",
    "fig, ax1 = plt.subplots()\n",
    "fig = plt.figure(figsize=(20,8))\n",
    "ax2 = ax1.twinx()\n",
    "ax1.plot(x,y1,color=\"g\")\n",
    "ax2.plot(x,y2,color=\"r\")\n",
    "\n",
    "ax1.set_xlabel('Age')\n",
    "ax1.set_ylabel(r\"Nombre de client\")\n",
    "ax2.set_ylabel(r\"CA client\")\n",
    "ax1.set_title(\"Nombre de client et CA par âge\\n\", fontsize=18, color='#e74c3c')\n",
    "#fig=plt.legend('y2','y1',loc=\"upper right\")\n",
    "#plt.gca().legend(('y2','y1'))\n",
    "print(\" En vert le nombre de client\\n En rouge le CA \")\n",
    "plt.show()\n"
   ]
  },
  {
   "cell_type": "markdown",
   "id": "4816c447",
   "metadata": {},
   "source": [
    "Le **CA** des clients âgés de **plus de 50 ans** est sensiblement proportionnel à leur nombre.\n",
    "\n",
    "Les clients âgés de **18 à 30 ans** génèrent **25 %** du CA total alors qu'ils ne représentent que **10 %** de l'ensemble de la clientèle.\n",
    "\n",
    "Les clients des classes d'âge **[30, 40[** et **[40, 50[** sont sensiblement similaires en termes de proportion et réalisent pratiquement le même **CA**, soit **24 %** par classe d'âge.\n",
    "\n"
   ]
  },
  {
   "cell_type": "markdown",
   "id": "ebbbe18b",
   "metadata": {},
   "source": [
    "### 4- Genre et tranche d'âge"
   ]
  },
  {
   "cell_type": "code",
   "execution_count": null,
   "id": "fa885878",
   "metadata": {},
   "outputs": [],
   "source": [
    "#Repartition des clients par tranche d'âge \n",
    "cl_age_sex=pd.DataFrame(df_b2c.groupby([\"classe_age\",\"sex\"])[\"client_id\"].count())\n",
    "cl_age_sex.rename(columns={\"client_id\":\"nbre_client\"},inplace= True)\n",
    "cl_age_sex=cl_age_sex.sort_values(by=\"nbre_client\", ascending=False)\n",
    "cl_age_sex=cl_age_sex.unstack(level=1)\n",
    "\n",
    "cl_age_sex.plot(kind='bar',title=\"Répartion des clients sexe et par tranche d'âge\", figsize=(20,10),subplots=False)\n",
    "\n",
    "plt.show()\n"
   ]
  },
  {
   "cell_type": "markdown",
   "id": "1e7a0f86",
   "metadata": {},
   "source": [
    "Il ya uniformité entre le CA réalisé par genre et par âge"
   ]
  },
  {
   "cell_type": "code",
   "execution_count": null,
   "id": "8b7f1519",
   "metadata": {},
   "outputs": [],
   "source": [
    "\n",
    "#Repartition du Ca par tranche d'âge \n",
    "ca_age_sex=pd.DataFrame(df_b2c.groupby([\"classe_age\",\"sex\"])[\"price\"].sum())\n",
    "ca_age_sex.rename(columns={\"price\":\"ca_client\"},inplace= True)\n",
    "ca_age_sex=ca_age_sex.sort_values(by=\"ca_client\", ascending=False)\n",
    "ca_age_sex=ca_age_sex.unstack(level=1)\n",
    "\n",
    "ca_age_sex.plot(kind='bar',title=\"Répartion CA par genre et par tranche d'âge\", figsize=(20,10),subplots=False)\n",
    "\n",
    "plt.show()\n",
    "print()"
   ]
  },
  {
   "cell_type": "markdown",
   "id": "d3fbe499",
   "metadata": {},
   "source": [
    "**Répartition des clients et du CA par classe d'âge**\n"
   ]
  },
  {
   "cell_type": "code",
   "execution_count": null,
   "id": "4987c6c9",
   "metadata": {},
   "outputs": [],
   "source": [
    "#Répartition des clients par classe d'âge\n",
    "cl_age_=pd.DataFrame(df_b2c.groupby([\"classe_age\"])[\"client_id\"].count())\n",
    "cl_age_.rename(columns={\"client_id\":\"nbre_client\"},inplace= True)\n",
    "cl_age_=cl_age_.sort_values(by=\"nbre_client\", ascending=False)\n",
    "cl_age_=cl_age_.unstack(level=1)\n",
    "cl_age_.plot(\n",
    "    kind='pie',\n",
    "    y='nbre_client',\n",
    "    labels=cl_age_.index.get_level_values('classe_age'),  \n",
    "    autopct='%1.1f%%',  \n",
    "    startangle=90,  \n",
    "    shadow=False,  \n",
    "    legend=False,\n",
    "    figsize=(14, 10)\n",
    ")\n",
    "\n",
    "plt.title(\"Répartition des clients par classe d'âge\")\n",
    "plt.ylabel('') \n",
    "plt.show()\n",
    "\n",
    "#Répartition du CA par classe d'âge\n",
    "\n",
    "cl_age_=pd.DataFrame(df_b2c.groupby([\"classe_age\",])[\"price\"].sum())\n",
    "cl_age_.rename(columns={\"price\":\"CA\"},inplace= True)\n",
    "cl_age_=cl_age_.sort_values(by=\"CA\", ascending=False)\n",
    "cl_age_=cl_age_.unstack(level=1)\n",
    "cl_age_.plot(\n",
    "    kind='pie',\n",
    "    y='CA',\n",
    "    labels=cl_age_.index.get_level_values('classe_age'),  \n",
    "    autopct='%1.1f%%',  \n",
    "    startangle=90,  \n",
    "    shadow=False,  \n",
    "    legend=False,\n",
    "    figsize=(14, 10)\n",
    ")\n",
    "\n",
    "plt.title(\"Répartition du CA par classe d'âge\")\n",
    "plt.ylabel('') \n",
    "plt.show()"
   ]
  },
  {
   "cell_type": "markdown",
   "id": "1bc49fee",
   "metadata": {},
   "source": [
    "Proportions\n",
    "\n",
    "**Entre 18 et 30 ans** : 10,2% = 23,6% du CA\n",
    "\n",
    "**Entre 30 et 50 ans** :76,4% = 47,1% du CA\n",
    "\n",
    "**Plus 50 ans** : 13,4% = 29,3% du CA"
   ]
  },
  {
   "cell_type": "markdown",
   "id": "57182c2c",
   "metadata": {},
   "source": [
    "## III- Client b tob : Étude des corrélations (âge, genre, montant total des achats, fréquence d'achat, panier moyen)"
   ]
  },
  {
   "cell_type": "markdown",
   "id": "8ee08f07",
   "metadata": {},
   "source": [
    "### 1- Corrélation entre le genre d’un client et les catégories des livres achetés\n"
   ]
  },
  {
   "cell_type": "code",
   "execution_count": null,
   "id": "1f70676a",
   "metadata": {},
   "outputs": [],
   "source": [
    "#Repartition des clients en fonction du genre et de la catégorie des produits achétés\n",
    "sns.displot(data=df_b2c, x='sex', hue='categ')\n",
    "plt.title('Effectifs des ventes B2C par sexe et catégorie')\n",
    "\n",
    "plt.show()"
   ]
  },
  {
   "cell_type": "markdown",
   "id": "24de3cec",
   "metadata": {},
   "source": [
    "Les **effectifs** sont proportionnels au **volume de vente** réalisé.\n",
    "\n",
    "Les **hommes** achètent sensiblement pareil que les **femmes**.\n"
   ]
  },
  {
   "cell_type": "code",
   "execution_count": null,
   "id": "b9d5b2dc",
   "metadata": {},
   "outputs": [],
   "source": [
    "# Volume de vente par genre et par date d'achat\n",
    "plt.figure(figsize=(15,5))\n",
    "sns.histplot(data=df_b2c, x='new_date', hue='sex')\n",
    "plt.title('Volume des ventes par genre et date d\\'achat')\n",
    "plt.show()"
   ]
  },
  {
   "cell_type": "markdown",
   "id": "9ba6de98",
   "metadata": {},
   "source": [
    "La **saisonnalité des achats** est la même pour les deux genres. La visualisation graphique montre que les deux variables sont **indépendantes**.\n",
    "\n",
    "Nous allons effectuer le **test statistique du Chi-2 d'indépendance**, afin d'accepter ou de rejeter l'hypothèse **H0** : les deux variables sont indépendantes. Le seuil de la **p-valeur** est fixé à **0,05**.\n"
   ]
  },
  {
   "cell_type": "code",
   "execution_count": null,
   "id": "96c64b27",
   "metadata": {},
   "outputs": [],
   "source": [
    "#Table de contingence\n",
    "\n",
    "cont_table=pd.crosstab(df_b2c[\"sex\"],df_b2c[\"categ\"])\n",
    "print('Table de contingence')\n",
    "\n",
    "cont_table\n",
    "\n"
   ]
  },
  {
   "cell_type": "code",
   "execution_count": null,
   "id": "69cbb922",
   "metadata": {},
   "outputs": [],
   "source": [
    "\n",
    "import scipy.stats as st\n",
    "st_chi2, st_p, st_dof, st_exp = st.chi2_contingency(cont_table)\n",
    "print(f\"khi2 :{st_chi2}\")\n",
    "\n",
    "print(f\"Nombre de degrés de liberté: {st_dof}\")\n",
    "print(f\"P value: {st_p}\")\n",
    "print(f\"Tableau des fréquences attendues : {st_exp}\")"
   ]
  },
  {
   "cell_type": "markdown",
   "id": "a941e49a",
   "metadata": {},
   "source": [
    "La **p-valeur** est inférieure à **0,05**, ce qui signifie que l'hypothèse **H0** est rejetée.\n",
    "\n",
    "Il existe une **faible dépendance** entre les variables **sexe** et **catégorie**.\n"
   ]
  },
  {
   "cell_type": "markdown",
   "id": "d7bf5401",
   "metadata": {},
   "source": [
    "### 2-Test de normalité sur les variables \"age\" et \"ca_panier\"(montant total des achats par panier)"
   ]
  },
  {
   "cell_type": "markdown",
   "id": "eb025d57",
   "metadata": {},
   "source": [
    "### AGE"
   ]
  },
  {
   "cell_type": "code",
   "execution_count": null,
   "id": "ee11b1d0",
   "metadata": {},
   "outputs": [],
   "source": [
    "sns.histplot(data=df_b2c[\"age\"],\n",
    "             bins=40,\n",
    "             kde=True)\n",
    "plt.title(\"Répartition des âges au sein de la clientèle\")\n",
    "plt.ylabel(\"Nombre de clients\")\n",
    "plt.xlabel(\"Age (années)\")\n",
    "plt.show()"
   ]
  },
  {
   "cell_type": "markdown",
   "id": "0ef604de",
   "metadata": {},
   "source": [
    "Graphiquement, la variable **âge** ne suit pas une **distribution normale**.\n",
    "\n",
    "Nous allons effectuer le **test de normalité** en posant l'hypothèse **H0** : la distribution par âge suit une loi normale.\n",
    "\n"
   ]
  },
  {
   "cell_type": "code",
   "execution_count": null,
   "id": "f023ce9a",
   "metadata": {},
   "outputs": [],
   "source": [
    "# Test de Normalite de la repartition des ages:\n",
    "print(st.anderson(df_b2c[\"age\"], dist=\"norm\"))"
   ]
  },
  {
   "cell_type": "code",
   "execution_count": null,
   "id": "be162f2e",
   "metadata": {},
   "outputs": [],
   "source": [
    "print(st.shapiro(df_b2c[\"age\"]))\n",
    "print(st.jarque_bera(df_b2c[\"age\"]))\n",
    "print(st.kstest(df_b2c[\"age\"], cdf=\"norm\"))"
   ]
  },
  {
   "cell_type": "markdown",
   "id": "f293d6bd",
   "metadata": {},
   "source": [
    "La **p-valeur** est égale à **zéro**, ce qui est inférieur à **0,05**.\n",
    "\n",
    "Nous rejetons donc **H0** et confirmons que la distribution de la variable ne suit pas une **loi normale**.\n",
    "\n"
   ]
  },
  {
   "cell_type": "markdown",
   "id": "de01aad0",
   "metadata": {},
   "source": [
    "### CA_PANIER"
   ]
  },
  {
   "cell_type": "code",
   "execution_count": null,
   "id": "9491389d",
   "metadata": {},
   "outputs": [],
   "source": [
    "#Création du df achat_age qui représente le montant total des achats par panier\n",
    "achat_age= df_b2c.groupby([\"session_id\",\"age\",])[\"price\"].sum().reset_index()\n",
    "achat_age.rename(columns={\"price\":\"ca_panier\"},inplace= True)"
   ]
  },
  {
   "cell_type": "code",
   "execution_count": null,
   "id": "dcbad727",
   "metadata": {},
   "outputs": [],
   "source": [
    "sns.histplot(data=achat_age[\"ca_panier\"],\n",
    "             bins=40,\n",
    "             kde=True)\n",
    "plt.title(\"Répartition du CA par panier au sein de la clientèle\")\n",
    "plt.ylabel(\"Nombre de panier\")\n",
    "plt.xlabel(\"ca_panier\")\n",
    "plt.show()"
   ]
  },
  {
   "cell_type": "markdown",
   "id": "bd1cbe5c",
   "metadata": {},
   "source": [
    "Graphiquement, le **montant total des achats par panier** ne suit pas une **distribution normale**.\n",
    "\n",
    "Nous allons effectuer le **test de normalité** en posant l'hypothèse **H0** : la distribution par montant total des achats par panier suit une loi normale.\n"
   ]
  },
  {
   "cell_type": "code",
   "execution_count": null,
   "id": "c39aa621",
   "metadata": {},
   "outputs": [],
   "source": [
    "print(st.shapiro(achat_age[\"ca_panier\"]))\n",
    "print(st.jarque_bera(achat_age[\"ca_panier\"]))\n",
    "print(st.kstest(achat_age[\"ca_panier\"], cdf=\"norm\"))"
   ]
  },
  {
   "cell_type": "markdown",
   "id": "e599326a",
   "metadata": {},
   "source": [
    "La **p-valeur** est égale à **zéro**, ce qui est inférieur à **0,05**.\n",
    "\n",
    "Nous rejetons donc **H0** et confirmons que la distribution du **montant total des achats par panier** ne suit pas une **loi normale**.\n"
   ]
  },
  {
   "cell_type": "markdown",
   "id": "d068f126",
   "metadata": {},
   "source": [
    "### 3- Corrélation entre l’âge des clients et le montant total des achats"
   ]
  },
  {
   "cell_type": "code",
   "execution_count": null,
   "id": "9a24f4d4",
   "metadata": {},
   "outputs": [],
   "source": [
    "# Prenons le df achat_age qui représente le montant total des achats par panier \n",
    "#afin de vsualiser et faire une regression linéaire\n",
    "X = achat_age.age.values.reshape(-1,1)\n",
    "Y = achat_age.ca_panier\n",
    "lr = LinearRegression()\n",
    "lr.fit(X, Y)\n",
    "\n",
    "plt.title(\"Montant Total des achats selon l\\'âge du client\")\n",
    "plt.scatter(X, Y, label=\"données\")\n",
    "plt.plot(X, lr.predict(X), color='red', linewidth=3, label=\"prédiction\")\n",
    "plt.ylabel(\"Montant total des achat\")\n",
    "plt.xlabel(\"age\")\n",
    "plt.legend()\n",
    "           \n",
    "plt.show()"
   ]
  },
  {
   "cell_type": "markdown",
   "id": "8b1d0817",
   "metadata": {},
   "source": [
    "Graphiquement, on constate que le **CA** généré baisse avec l'âge (la **régression linéaire** est négative).\n",
    "\n",
    "Le **test statistique de Pearson** va être utilisé pour confirmer ou rejeter l'hypothèse :\n",
    "\n",
    "**H0** : il n'y a pas de **corrélation** entre les deux variables.\n"
   ]
  },
  {
   "cell_type": "code",
   "execution_count": null,
   "id": "cc79dec0",
   "metadata": {},
   "outputs": [],
   "source": [
    "import scipy.stats as st\n",
    "st.pearsonr(achat_age[\"age\"], achat_age[\"ca_panier\"])"
   ]
  },
  {
   "cell_type": "markdown",
   "id": "f5c4e31a",
   "metadata": {},
   "source": [
    "La **p-valeur** est < **0,05** : **H0** est rejetée (il existe une **corrélation** entre le **CA** et l'**âge**, bien que sa forme ne soit pas linéaire).\n",
    "\n",
    "Le **coefficient** est plus proche de **zéro** que de **1**. Par conséquent, on peut affirmer que plus les consommateurs sont âgés, plus le montant total de leurs achats est faible (**faible corrélation**).\n"
   ]
  },
  {
   "cell_type": "markdown",
   "id": "127a40df",
   "metadata": {},
   "source": [
    "### 4- Corrélation entre l’âge des clients la taille du panier moyen "
   ]
  },
  {
   "cell_type": "code",
   "execution_count": null,
   "id": "8807c354",
   "metadata": {},
   "outputs": [],
   "source": [
    "\n",
    "# création de la table d1 qui représente nombre de session/ client \n",
    "d1= df_b2c.groupby([\"client_id\",\"age\"])[\"session_id\"].count().reset_index()\n",
    "\n",
    "\n",
    "# création de la table d2 qui représente ca/ client\n",
    "d2= df_b2c.groupby([\"client_id\",\"age\"])[\"price\"].sum().reset_index()\n",
    "\n",
    "# fusion d1 et d2\n",
    "\n",
    "\n",
    "client_pa =pd.merge(d2,d1, on=[\"client_id\",\"age\"], how=\"left\")\n",
    "\n",
    "# renommage des colonnes\n",
    "client_pa.rename(columns={\"session_id\":\"nbre_session\",\"price\":\"ca\"},inplace= True)\n",
    "\n",
    "# panier moyen par client\n",
    "client_pa[\"panier_moyen\"]=round((client_pa[\"ca\"]/client_pa[\"nbre_session\"]),2)\n",
    "\n",
    "#fréquence_achats par client\n",
    "\n",
    "client_pa[\"fréquence_achats\"]=round((client_pa[\"nbre_session\"]/23),2)\n",
    "client_pa=client_pa.sort_values(by=\"ca\", ascending=True)\n",
    "client_pa.head()"
   ]
  },
  {
   "cell_type": "code",
   "execution_count": null,
   "id": "3d333cd0",
   "metadata": {},
   "outputs": [],
   "source": [
    "#Visualisation graphique et regression polynomiale\n",
    "\n",
    "X = client_pa.age.values.reshape(-1,1)\n",
    "y = client_pa.panier_moyen\n",
    "plt.scatter(X,y, alpha=0.5);\n",
    "\n",
    "linear_model = LinearRegression().fit(X,y) \n",
    "preds = linear_model.predict(X)\n",
    "\n",
    "# y_mean \n",
    "label_mean = np.mean(y) \n",
    "print('moyenne de l\\'étiquette :', label_mean )\n",
    "# RMSE \n",
    "rmse = np.sqrt( mean_squared_error(y, preds)) \n",
    "print('RMSE:', rmse )\n",
    "# % de réduction \n",
    "print('% de réduction :',rmse/label_mean)\n",
    "print(linear_model.score(X,y))\n",
    "\n",
    "# Instance \n",
    "poly2 = PolynomialFeatures(degree=3, include_bias=False) \n",
    "X_poly = poly2.fit_transform(X)\n",
    "# Ajuster le modèle linéaire avec des fonctionnalités poly \n",
    "poly_model = LinearRegression().fit(X_poly,y) \n",
    "poly_pred = poly_model.predict(X_poly)\n",
    "# Tracer \n",
    "plt.scatter(X,y, alpha=0.5) \n",
    "plt.plot(X, poly_pred, color='red', linestyle='', marker='.', lw=0.1);"
   ]
  },
  {
   "cell_type": "markdown",
   "id": "a5a0ccb5",
   "metadata": {},
   "source": [
    "Entre **18 et 30 ans**, le **panier moyen** se situe sensiblement à **90€**.\n",
    "\n",
    "Au-delà de **30 ans**, le panier moyen semble linéaire entre **10 et 25€**.\n",
    "\n",
    "En se basant sur le graphique, nous pouvons dire que les variables sont **corrélées**.\n",
    "\n",
    "Le **test statistique de Pearson** va être utilisé pour confirmer ou rejeter l'hypothèse :\n",
    "\n",
    "**H0** : il n'y a pas de **corrélation** entre les deux variables.\n"
   ]
  },
  {
   "cell_type": "code",
   "execution_count": null,
   "id": "cf2933fc",
   "metadata": {},
   "outputs": [],
   "source": [
    "st.pearsonr(client_pa[\"age\"], client_pa[\"panier_moyen\"])"
   ]
  },
  {
   "cell_type": "markdown",
   "id": "e052a62d",
   "metadata": {},
   "source": [
    "La **p-valeur** est < **0,05** : **H0** est rejetée (il existe une **corrélation** entre le **panier moyen** et l'**âge**, bien que sa forme ne soit pas linéaire).\n",
    "\n"
   ]
  },
  {
   "cell_type": "markdown",
   "id": "2a920f2c",
   "metadata": {},
   "source": [
    "### 5- Corrélation entre l’âge des clients et la fréquence d’achat\n"
   ]
  },
  {
   "cell_type": "code",
   "execution_count": null,
   "id": "95a4751a",
   "metadata": {},
   "outputs": [],
   "source": [
    "X = client_pa.age.values.reshape(-1,1)\n",
    "y = client_pa.fréquence_achats\n",
    "plt.scatter(X,y, alpha=0.5);\n",
    "\n",
    "linear_model = LinearRegression().fit(X,y) \n",
    "preds = linear_model.predict(X)\n",
    "\n",
    "# y_mean \n",
    "label_mean = np.mean(y) \n",
    "print('moyenne de l\\'étiquette :', label_mean )\n",
    "# RMSE \n",
    "rmse = np.sqrt( mean_squared_error(y, preds)) \n",
    "print('RMSE:', rmse )\n",
    "# % de réduction \n",
    "print('% de réduction :',rmse/label_mean)\n",
    "print(linear_model.score(X,y))\n",
    "\n",
    "# Instance \n",
    "poly2 = PolynomialFeatures(degree=4, include_bias=False) \n",
    "X_poly = poly2.fit_transform(X)\n",
    "# Ajuster le modèle linéaire avec des fonctionnalités poly \n",
    "poly_model = LinearRegression().fit(X_poly,y) \n",
    "poly_pred = poly_model.predict(X_poly)\n",
    "# Tracer \n",
    "plt.scatter(X,y, alpha=0.5) \n",
    "plt.plot(X, poly_pred, color='red', linestyle='', marker='.', lw=0.1);"
   ]
  },
  {
   "cell_type": "markdown",
   "id": "81740ee4",
   "metadata": {},
   "source": [
    "Trois groupes de clients se distinguent :\n",
    "\n",
    "- **Entre 18 et 30 ans** : la fréquence d'achat se situe sensiblement à **4**.\n",
    "- **Entre 30 et 50 ans** : ils achètent le plus souvent (la fréquence se situe entre **4 et 17,5**).\n",
    "- **Après 50 ans** : la fréquence d'achat baisse sensiblement avec l'âge pour atteindre au maximum **7,5**, mais elle reste plus élevée que celle des **18-30 ans**.\n",
    "\n",
    "En se basant sur le graphique, nous pouvons dire que les variables sont **corrélées**.\n",
    "\n",
    "Le **test statistique de Pearson** va être utilisé pour confirmer ou rejeter l'hypothèse :\n",
    "\n",
    "**H0** : il n'y a pas de **corrélation** entre les deux variables.\n",
    "\n"
   ]
  },
  {
   "cell_type": "code",
   "execution_count": null,
   "id": "84ceedc8",
   "metadata": {},
   "outputs": [],
   "source": [
    "st.pearsonr(client_pa[\"age\"], client_pa[\"fréquence_achats\"])"
   ]
  },
  {
   "cell_type": "markdown",
   "id": "a83432ea",
   "metadata": {},
   "source": [
    "La **p-valeur** est < **0,05** : **H0** est rejetée.\n",
    "\n",
    "Il existe une **corrélation** entre la **fréquence d'achat** et l'**âge**, bien que sa forme ne soit pas linéaire.\n"
   ]
  },
  {
   "cell_type": "markdown",
   "id": "ebbb5278",
   "metadata": {},
   "source": [
    "### 6- Corrélation entre l’âge des clients et les catégories des livres achetés"
   ]
  },
  {
   "cell_type": "code",
   "execution_count": null,
   "id": "d468d7d0",
   "metadata": {},
   "outputs": [],
   "source": [
    "#Repartition des clients en fonction du genre et de la catégorie des produits achétés\n",
    "\n",
    "sns.displot(data=df_b2c, x='age', hue='categ',kind='kde')\n",
    "plt.title('Volume des ventes B2C par âge et catégorie')\n",
    "\n",
    "plt.show()"
   ]
  },
  {
   "cell_type": "markdown",
   "id": "47786a97",
   "metadata": {},
   "source": [
    "La **p-valeur** est < **0,05** : **H0** est rejetée.\n",
    "\n",
    "Il existe une **corrélation** entre la **fréquence d'achat** et l'**âge**, bien que sa forme ne soit pas linéaire.\n",
    "\n",
    "---\n",
    "\n",
    "Les produits de la **catégorie 0** sont achetés par toutes les tranches d'âge, mais principalement par la tranche **30-50 ans**.\n",
    "\n",
    "La **catégorie 1** est également achetée par toutes les tranches d'âge, mais principalement par les **30-60 ans**.\n",
    "\n",
    "La **catégorie 2** est essentiellement achetée par les **18-30 ans**.\n"
   ]
  },
  {
   "cell_type": "markdown",
   "id": "0804a98e",
   "metadata": {},
   "source": [
    "**Distribution des catégories par âge**"
   ]
  },
  {
   "cell_type": "code",
   "execution_count": null,
   "id": "d3d95fff",
   "metadata": {},
   "outputs": [],
   "source": [
    "X2 = \"categ\" # qualitative\n",
    "Y2 = \"age\" # quantitative\n",
    "\n",
    "modalites = df_b2c[X2].unique()\n",
    "groupes = []\n",
    "for m in modalites:\n",
    "    groupes.append(df_b2c[df_b2c[X2]==m][Y2])\n",
    "\n",
    "  \n",
    "medianprops = {'color':\"black\"}\n",
    "meanprops = {'marker':'o', 'markeredgecolor':'black',\n",
    "            'markerfacecolor':'firebrick'}\n",
    "    \n",
    "plt.boxplot(groupes, labels=modalites, showfliers=False, medianprops=medianprops, \n",
    "            vert=False, patch_artist=True, showmeans=True, meanprops=meanprops)\n",
    "print(\"Distribution des catégories par âge\")\n",
    "plt.show()\n",
    "\n",
    "def eta_squared(x,y):\n",
    "    moyenne_y = y.mean()\n",
    "    classes = []\n",
    "    for classe in x.unique():\n",
    "        yi_classe = y[x==classe]\n",
    "        classes.append({'ni': len(yi_classe),\n",
    "                        'moyenne_classe': yi_classe.mean()})\n",
    "    SCT = sum([(yj-moyenne_y)**2 for yj in y])\n",
    "    SCE = sum([c['ni']*(c['moyenne_classe']-moyenne_y)**2 for c in classes])\n",
    "    return SCE/SCT\n",
    "\n",
    "\n",
    "p=eta_squared(df_b2c[X2],df_b2c[Y2])\n",
    "\n",
    "print(f\"η 2 = {p} \")"
   ]
  },
  {
   "cell_type": "markdown",
   "id": "57766441",
   "metadata": {},
   "source": [
    "Le **η²** (eta squared) est proche de **0.2**, ce qui laisse penser que la **variance** de l'âge est expliquée par les **catégories de produits**.\n",
    "\n",
    "- **Catégorie 0** : Large distribution des âges, attirant un large éventail de clients de tous âges.\n",
    "- **Catégorie 1** : Concentrée autour de **50 ans**, principalement des clients d'âge moyen.\n",
    "- **Catégorie 2** : Majoritairement des clients jeunes, principalement en dessous de **40 ans**.\n",
    "\n",
    "Le **test statistique de Kruskal** va être utilisé pour confirmer ou rejeter l'**hypothèse nulle** selon laquelle la **médiane** est la même pour tous les groupes de données.\n"
   ]
  },
  {
   "cell_type": "code",
   "execution_count": null,
   "id": "c1f5356f",
   "metadata": {},
   "outputs": [],
   "source": [
    "#Repartition du clients en fonction de la tranche d'âge et de la catégorie des produits achétés\n",
    "pp=df_b2c.groupby([\"classe_age\",\"categ\"])[\"id_prod\"].count().reset_index()\n",
    "pp.rename(columns={\"id_prod\":\"nbre_achat\"},inplace= True)\n",
    "pp=pp.sort_values(by=\"classe_age\", ascending=True)\n",
    "pp"
   ]
  },
  {
   "cell_type": "code",
   "execution_count": null,
   "id": "75c8092c",
   "metadata": {},
   "outputs": [],
   "source": [
    "pp1 = pp.set_index('categ')\n",
    "pp1.head()"
   ]
  },
  {
   "cell_type": "code",
   "execution_count": null,
   "id": "9a19d843",
   "metadata": {},
   "outputs": [],
   "source": [
    "#Repartition du clients en fonction de la tranche d'âge et de la catégorie des produits achétés\n",
    "cal2=pd.DataFrame(df_b2c.groupby([\"classe_age\",\"categ\"])[\"id_prod\"].count())\n",
    "cal2.rename(columns={\"id_prod\":\"nbre_achat\"},inplace= True)\n",
    "#cal1=v_oct_2021.sort_values(by=\"ca_cli\", ascending=True)\n",
    "cal2=cal2.unstack(level=0)\n",
    "cal2.reset_index()\n",
    "cal2"
   ]
  },
  {
   "cell_type": "code",
   "execution_count": null,
   "id": "817d24f3",
   "metadata": {},
   "outputs": [],
   "source": [
    "g_0=cal2[\"nbre_achat\"].iloc[0]\n",
    "g_1=cal2[\"nbre_achat\"].iloc[1]\n",
    "g_2=cal2[\"nbre_achat\"].iloc[2]\n",
    "result = st.kruskal(g_0, g_1, g_2 )\n",
    "\n",
    "print(result)"
   ]
  },
  {
   "cell_type": "markdown",
   "id": "6f930869",
   "metadata": {},
   "source": [
    "La **statistique de test** est égale à **9,84** et la **valeur de p** correspondante est de **0,007**.\n",
    "\n",
    "Comme la **valeur p** est inférieure à **0,05**, nous rejetons l'**hypothèse nulle** selon laquelle la **médiane** est la même pour tous les groupes de données.\n",
    "\n",
    "Il existe donc une **corrélation** entre l'**âge** et la **catégorie des produits** (la croissance de la médiane des ventes par classe d'âge n'est pas la même pour les trois catégories).\n"
   ]
  },
  {
   "cell_type": "code",
   "execution_count": null,
   "id": "e4a590f3",
   "metadata": {},
   "outputs": [],
   "source": [
    "# Encodage de la variablee  'sex\" (2 modalités : 2 pour les femmes et 1 pour les hommes)\n",
    "\n",
    "df_b2c['code_sex'] = 2\n",
    "df_b2c['code_sex'].loc[df['sex']==\"m\"]=1"
   ]
  },
  {
   "cell_type": "code",
   "execution_count": null,
   "id": "11c63673",
   "metadata": {},
   "outputs": [],
   "source": [
    "#Méthode .corr() avec par défaut la formule de la corrélation linéaire de Pearson\n",
    "sns.heatmap(df_b2c.corr(), annot=True, fmt=\".1f\", cmap='Greens')\n",
    "plt.title('Corrélation HeatMap de quelques variables')\n",
    "\n",
    "plt.show()"
   ]
  },
  {
   "cell_type": "markdown",
   "id": "eac2474a",
   "metadata": {},
   "source": [
    "Il existe une **très forte corrélation** entre le **prix des articles** et les **catégories d'articles**. En revanche, il y a une **faible corrélation** entre le **prix** et l'**âge**.\n"
   ]
  },
  {
   "cell_type": "code",
   "execution_count": null,
   "id": "0b03de91",
   "metadata": {
    "scrolled": true
   },
   "outputs": [],
   "source": [
    "plt.figure(figsize=(8,5))\n",
    "heatmap = sns.heatmap(\n",
    "    client_pa.corr(), \n",
    "    mask=np.triu(np.ones_like(client_pa.corr(), dtype=np.bool)), \n",
    "    vmin=-1, vmax=1, annot=True, cmap='BrBG')\n",
    "heatmap.set_title('Matrice de corrélation entre les différentes caractéristique des transactions',\n",
    "                  fontdict={'fontsize':16}, pad=16)\n",
    "plt.show()"
   ]
  },
  {
   "cell_type": "markdown",
   "id": "06c35f73",
   "metadata": {},
   "source": [
    "Il existe une **forte corrélation** entre l'**âge** et le **panier moyen**, ainsi qu'entre le **CA**, la **fréquence d'achat**, le **nombre de sessions**, et le **panier moyen**.\n",
    "\n",
    "Bien que **très faible**, il existe une corrélation entre :\n",
    "- le **panier moyen** et la **fréquence d'achat**,\n",
    "- l'**âge** et le **CA**,\n",
    "- l'**âge** et la **fréquence d'achat**.\n"
   ]
  },
  {
   "cell_type": "markdown",
   "id": "8888c66f",
   "metadata": {},
   "source": [
    "# III- Zoom sur les clients b to b"
   ]
  },
  {
   "cell_type": "markdown",
   "id": "8245f228",
   "metadata": {},
   "source": [
    "**Volume d'achats des clients b to b, par catégorie**"
   ]
  },
  {
   "cell_type": "code",
   "execution_count": null,
   "id": "0ad9a713",
   "metadata": {},
   "outputs": [],
   "source": [
    "\n",
    "sns.countplot(data=df_b2b, x='client_id', hue='categ')\n",
    "plt.title('Volume d\\'achats des clients professionnels, par catégorie')\n",
    "\n",
    "plt.show()\n",
    "\n"
   ]
  },
  {
   "cell_type": "markdown",
   "id": "98a381f0",
   "metadata": {},
   "source": [
    "Il ya une forte disparité au niveau des catégories achetés par chaque client."
   ]
  },
  {
   "cell_type": "markdown",
   "id": "bed42817",
   "metadata": {},
   "source": [
    "**Distribution des prix d\\'achat des professionnels**"
   ]
  },
  {
   "cell_type": "code",
   "execution_count": null,
   "id": "4033a227",
   "metadata": {},
   "outputs": [],
   "source": [
    "plt.figure(figsize=(8,5))\n",
    "sns.boxplot(data=df_b2b, y='price', x='client_id', showfliers=False)\n",
    "plt.title('Dstribution des prix d\\'achat des professionnels')\n",
    "\n",
    "plt.show()\n",
    "\n"
   ]
  },
  {
   "cell_type": "markdown",
   "id": "339a6475",
   "metadata": {},
   "source": [
    "Le client **c_4958** est celui qui achète le plus de livres à **prix élevé** (il n'achète que des produits de **catégorie 1** et **2**).\n",
    "\n",
    "Les autres suivent la même tendance avec une **médiane** de **18€**.\n",
    "\n"
   ]
  },
  {
   "cell_type": "markdown",
   "id": "a3d700c3",
   "metadata": {},
   "source": [
    "**Repartion volme de vente et CA b to b**"
   ]
  },
  {
   "cell_type": "code",
   "execution_count": null,
   "id": "2bc6f162",
   "metadata": {},
   "outputs": [],
   "source": [
    "\n",
    "#Création de la table ca_client_b2b_v qui représente le volume de vente par  client btob\n",
    "ca_client_b2b_v=df_b2b.groupby([\"client_id\"])[\"id_prod\"].count().reset_index()\n",
    "ca_client_b2b_v.rename(columns={\"id_prod\":\"vol_prod\"},inplace= True)\n",
    "ca_client_b2b_v=ca_client_b2b_v.sort_values(by=\"vol_prod\", ascending=False)\n",
    "\n",
    "plt.figure(figsize=(14,6))\n",
    "ax2 = plt.subplot(121, aspect='equal')\n",
    "ca_client_b2b_v.plot(kind='pie',\n",
    "               y = 'vol_prod',\n",
    "               ax=ax2,\n",
    "               autopct='%1.1f%%', \n",
    "               #startangle=90,\n",
    "               shadow=False,\n",
    "               labels=ca_client_b2b_v[\"client_id\"],\n",
    "               legend = True)\n",
    "plt.title(\"Repartition du volume de vente clients BtoB\")\n",
    "plt.show()\n",
    "\n",
    "\n",
    "#Création de la table ca_client_b2b qui représente le CA par  client btob\n",
    "ca_client_b2b=df_b2b.groupby([\"client_id\"])[\"price\"].sum().reset_index()\n",
    "ca_client_b2b.rename(columns={\"price\":\"ca_client\"},inplace= True)\n",
    "ca_client_b2b=ca_client_b2b.sort_values(by=\"ca_client\", ascending=False)\n",
    "\n",
    "plt.figure(figsize=(14,6))\n",
    "ax2 = plt.subplot(121, aspect='equal')\n",
    "ca_client_b2b.plot(kind='pie',\n",
    "               y = 'ca_client',\n",
    "               ax=ax2,\n",
    "               autopct='%1.1f%%', \n",
    "               #startangle=90,\n",
    "               shadow=False,\n",
    "               labels=ca_client_b2b[\"client_id\"],\n",
    "               legend = True)\n",
    "plt.title(\"Repartition du CA  clients BtoB\")\n",
    "plt.show()"
   ]
  },
  {
   "cell_type": "markdown",
   "id": "90a4acfa",
   "metadata": {},
   "source": [
    "Les clients c_4958 et c_1609 totalisent 70% du ventes dess clients btob\n",
    "\n"
   ]
  },
  {
   "cell_type": "code",
   "execution_count": null,
   "id": "1440cef0",
   "metadata": {},
   "outputs": [],
   "source": [
    "\n",
    "# périodicité des achats\n",
    "for i in df_b2b['client_id'].unique():\n",
    "    print('Client', i)\n",
    "    plt.figure(figsize=(15,5))\n",
    "    sns.histplot(data=df_b2b[df_b2b['client_id']==i], x='new_date', hue='categ', binwidth=7)\n",
    "    plt.show()"
   ]
  },
  {
   "cell_type": "markdown",
   "id": "5f60929c",
   "metadata": {},
   "source": [
    "On n'observe pas de saisonalité au niveau des achats\n"
   ]
  },
  {
   "cell_type": "markdown",
   "id": "7c79ec85",
   "metadata": {},
   "source": [
    "# E. Analyse de la Concentration des Ventes\n",
    "   - Courbe de Lorenz : répartition du chiffre d'affaires entre différents profils clients"
   ]
  },
  {
   "cell_type": "code",
   "execution_count": null,
   "id": "2ee12f1b",
   "metadata": {},
   "outputs": [],
   "source": [
    "# création de la table ca_client qui représente client\n",
    "ca_client= df.groupby([\"client_id\"])[\"price\"].sum().reset_index()\n",
    "ca_client.rename(columns={\"price\":\"ca\"},inplace= True)\n",
    "ca_client=ca_client.sort_values(by=\"ca\", ascending=False)\n",
    "ca_client"
   ]
  },
  {
   "cell_type": "code",
   "execution_count": null,
   "id": "aa60e244",
   "metadata": {},
   "outputs": [],
   "source": [
    "# création de la table ca_client qui représente client b to c\n",
    "ca_client_b2c= df_b2c.groupby([\"client_id\"])[\"price\"].sum().reset_index()\n",
    "ca_client_b2c.rename(columns={\"price\":\"ca\"},inplace= True)\n",
    "ca_client_b2c=ca_client_b2c.sort_values(by=\"ca\", ascending=False)"
   ]
  },
  {
   "cell_type": "code",
   "execution_count": null,
   "id": "561d1f06",
   "metadata": {},
   "outputs": [],
   "source": [
    "# Courbe de Lorenz\n",
    "def lorenz(variable, title):\n",
    "    X = variable.values\n",
    "    X = np.sort(X)\n",
    "    \n",
    "    # Indice de Gini\n",
    "    def gini(array):\n",
    "        array\n",
    "        sorted_array = array.copy()\n",
    "        sorted_array.sort()\n",
    "        n = array.size\n",
    "        coef_ = 2. / n\n",
    "        const_ = (n + 1.) / n\n",
    "        weighted_sum = sum([(i+1)*yi for i, yi in enumerate(sorted_array)])\n",
    "        return coef_*weighted_sum/(sorted_array.sum()) - const_\n",
    "    print('Indice de Gini appliqué au CA est :', gini(X))\n",
    "    \n",
    "    # Courbe de Lorenz\n",
    "    X_lorenz = X.cumsum() / X.sum()\n",
    "    X_lorenz = np.insert(X_lorenz, 0, 0)\n",
    "    # X_lorenz[0], X_lorenz[-1]\n",
    "    y = np.arange(X_lorenz.size)/(X_lorenz.size-1)\n",
    "    lorenz = pd.DataFrame()\n",
    "    lorenz['X'] = pd.Series(X_lorenz)\n",
    "    lorenz['Y'] = pd.Series(y)\n",
    "    sns.scatterplot(data=lorenz, x='Y', y='X', marker='x')\n",
    "\n",
    "    # Diagonale\n",
    "    a = np.arange(0,1,.01)\n",
    "    x = a\n",
    "    y = a\n",
    "    \n",
    "    # Graphique\n",
    "    sns.lineplot(x=x,y=y)\n",
    "    plt.xlim([0,1])\n",
    "    plt.ylim([0,1])\n",
    "    plt.title(title)\n",
    "    plt.show()\n",
    "    \n",
    "# Inégalité des chiffres d'affaires annuels de tous les clients\n",
    "lorenz(ca_client['ca'], 'Inégalités de CA entre tous les clients')\n",
    "\n",
    "# Inégalité des chiffres d'affaires annuels des clients B TO Cabs\n",
    "lorenz(ca_client_b2c['ca'], 'Inégalités de CA entre les clients B TO C')"
   ]
  },
  {
   "cell_type": "markdown",
   "id": "ba806466",
   "metadata": {},
   "source": [
    "50% du CA est représenté par 80% des clients . il existe une inégalité de CA entre les clients"
   ]
  },
  {
   "cell_type": "markdown",
   "id": "1f9cb780",
   "metadata": {},
   "source": [
    "## Indice de Gini\n",
    "\n",
    "- **Indice de Gini Global** : Avec une valeur de **0.4474**, l'indice montre une **concentration modérée** du CA parmi tous les clients, confirmant qu'un petit groupe (notamment les **B2B**) influence de manière disproportionnée le chiffre d'affaires.\n",
    "\n",
    "- **Indice de Gini pour les clients B2C** : L'indice est de **0.4037**, ce qui indique une **distribution plus équitable** du CA parmi les clients B2C par rapport à l'ensemble des clients, bien que des inégalités persistent.\n"
   ]
  },
  {
   "cell_type": "markdown",
   "id": "718d1327",
   "metadata": {},
   "source": [
    "## Synthèse - Analyse des comportements clients\n",
    "\n",
    "### Deux segments principaux ont été identifiés :\n",
    "\n",
    "- **B2B** : Ce segment représente **7 %** de la clientèle et contribue à **7 %** du chiffre d'affaires global, ce qui indique un **revenu élevé par client**.\n",
    "- **B2C** : Constituant la **majorité des clients**, ce segment contribue au chiffre d'affaires de manière proportionnelle à sa part dans la base de données, suggérant une **répartition équilibrée**.\n",
    "\n",
    "### Concernant les clients B2C :\n",
    "\n",
    "L'**âge moyen** des clients est de **45 ans**, la plupart se situant entre **35 et 52 ans**.\n",
    "\n",
    "On observe une répartition presque égale entre **hommes et femmes**, tant en nombre de clients qu'en chiffre d'affaires généré, ce qui montre que l'offre s'adresse de manière équilibrée aux deux genres. Toutefois, l'analyse révèle une **segmentation fine** basée sur l'âge, permettant d'identifier des dynamiques et des comportements d'achat spécifiques à chaque groupe :\n",
    "\n",
    "1. **Segment des 18-30 ans** : Dynamique, Prémium, stratégique, très fort potentiel de croissance.\n",
    "   - Il représente **10 %** de la clientèle mais génère **24 %** du chiffre d’affaires total, indiquant une influence disproportionnée.\n",
    "   - Les clients de ce segment ont un **panier moyen élevé** d’environ **90 €**, privilégiant des produits de **catégorie 2** (haut de gamme).\n",
    "   - Bien que leur fréquence d’achat soit inférieure à celle des segments plus âgés, leur dynamisme et leur attrait pour les produits premium en font un **groupe stratégique** à **fort potentiel de croissance**.\n",
    "\n",
    "\n",
    "2. **Segment des 30-50 ans** : Stable, engagés, pilier, fort potentiel de croissance.\n",
    "   - Ce groupe constitue le segment le **plus important en nombre de clients** (76 %) et génère **47 %** du chiffre d’affaires, ce qui correspond de manière stable à leur proportion dans la clientèle.\n",
    "   - Leur **panier moyen**, modéré (**10-25 €**), est compensé par une **fréquence d’achat élevée** (entre **4 et 17,5** achats), faisant de ce groupe le **plus actif**.\n",
    "   - Ils privilégient les produits des **catégories 0 et 1**. En raison de leur fréquence d’achat élevée et de leur comportement prévisible, ils forment une base **solide** pour la **stabilité du chiffre d’affaires**. Leur volume d’achat fréquent combiné à leur nombre important assure une **constance des revenus**.\n",
    "\n",
    "\n",
    "3. **Segment des +50 ans** : Stable, prévisible, potentiel de croissance limité.\n",
    "   - Ce segment, représentant **14 %** de la clientèle, contribue à hauteur de **30 %** du chiffre d’affaires.\n",
    "   - Leur **panier moyen** est similaire à celui des 30-50 ans (**10-25 €**), et leur fréquence d’achat régulière, bien que moins élevée, garantit une **stabilité des revenus**.\n",
    "   - Ils préfèrent les produits des **catégories 0 et 1**, avec une préférence marquée pour la **catégorie 1**. La constance de leurs achats démontre leur **fidélité** envers les produits ou services consommés régulièrement.\n",
    "\n",
    "De façon globale, plus l’**âge augmente**, plus le **montant total des achats** diminue. Les clients les plus jeunes ont donc des **comportements d’achat plus dynamiques**.\n",
    "\n",
    "\n",
    "### Concernant les clients B2B :\n",
    "\n",
    "Ce segment comprend actuellement **4 clients**. L'analyse révèle :\n",
    "\n",
    "- **Absence de saisonnalité** : Les achats des clients B2B ne présentent pas de **variations saisonnières**, ce qui suggère des **habitudes d’achat régulières et stables**, indépendantes des fluctuations saisonnières.\n",
    "- **Concentration des ventes** : Les clients **c_4958** et **c_1609** représentent à eux seuls **70 %** du chiffre d’affaires B2B, ce qui indique une **forte concentration des revenus** autour de ces deux clients principaux.\n",
    "- **Client c_4958** : Ce client se distingue par ses **achats exclusifs** de livres de **catégorie 1 et catégorie 2**, des produits à **prix élevés**, soulignant une **préférence marquée pour les produits premium**.\n",
    "- **Tendance générale** : Les autres clients montrent une tendance similaire, avec une **médiane de prix** des livres autour de **18 €**.\n",
    "- **Disparité des catégories** : Une grande variation est observée dans les catégories de produits achetées par chaque client, ce qui reflète une **diversité** dans les préférences d’achat au sein de la clientèle B2B.\n"
   ]
  },
  {
   "cell_type": "markdown",
   "id": "1d5e78c0",
   "metadata": {},
   "source": [
    "# F- Conclusion"
   ]
  },
  {
   "cell_type": "markdown",
   "id": "5f5972de",
   "metadata": {},
   "source": [
    "# I- Résumé des principaux insights\n",
    "\n",
    "## Synthèse du CA\n",
    "\n",
    "**CA 2021** : Relativement bas, car l’année de **lancement** avec des ventes sur **10 mois seulement.\n",
    "\n",
    "**CA 2022** : Tendance positive et croissante**, indiquant une **expansion du marché.\n",
    "\n",
    "**Faits marquants** :\n",
    "- **Chute significative** en octobre 2021 due à une **absence de transactions** en **catégorie 1** (possiblement lié à un **bug** ou une **rupture de stock**).\n",
    "- **Périodes de forte performance** : Janvier, juillet, et décembre 2022, ainsi que décembre 2021.\n",
    "- **Périodes de stabilisation** : Mars-mai et juin-août 2021, et mars-avril 2022.\n",
    "\n",
    "## Produits\n",
    "\n",
    "**Catégorie 2 (Prix élevé , faible volume, Produits Premium)** :\n",
    "- Contribue à **25 %** du CA avec un **volume faible** (5,4 %).\n",
    "- **Baisse du CA** entre septembre 2021 et février 2022, indiquant une **saisonnalité** ou des **fluctuations de demande**.\n",
    "- **Stabilisation** en dehors de cette période, montrant une **demande de base constante**.\n",
    "\n",
    "**Catégorie 1 (Prix Moyen, Volume Élevé)** :\n",
    "- Génère un CA **proportionnel** au volume des ventes.\n",
    "- **Croissance des ventes** entre septembre 2021 et février 2022, probablement due à une **demande accrue** ou des **promotions**.\n",
    "- **Stabilité** en dehors de cette période, indiquant une **fidélité des consommateurs**.\n",
    "\n",
    "**Catégorie 0 (Prix Bas, Fort Volume)** :\n",
    "- Représente **60 %** des ventes mais seulement **37 %** du CA, dû aux **prix bas**.\n",
    "- Montre une **tendance haussière** entre septembre 2021 et février 2022, puis une **stabilité** en dehors de cette période.\n",
    "\n",
    "## Comportements Clients\n",
    "\n",
    "** B2C **:\n",
    "- **Âge moyen** : 45 ans, avec une **répartition quasi-égale entre genres**.\n",
    "- **Segmentation par âge** :\n",
    "  - **18-30 ans** : Dynamique, premium, fort potentiel (**10 %** de clients, **24 %** du CA, cible + produits catégorie 2 ,réquence d’achat faible, Panier moyen élevé (90 €),).\n",
    "  - **30-50 ans** : Stable, pilier de la clientèle (**76 %** de clients, **47 %** du CA,cible + produits catégorie 1,fréquence d’achat élevée).\n",
    "  - **+50 ans** : Stable, prévisible (**14 %** de clients, **30 %** du CA,cible produits catégorie 1 et 0).\n",
    "\n",
    "**B2B** :\n",
    "- 7 % des clients,7% du CA, forte concentration du CA sur deux clients principaux, achat stable sans saisonnalité.\n",
    "\n",
    "\n",
    "Les dynamiques de vente et la contribution au CA varient selon les catégories de produits, avec un impact significatif du prix, notamment pour la **catégorie 2**. Les **catégories 0** et **1** montrent une influence plus liée au volume de ventes. Les données manquantes sur certaines périodes et les variations saisonnières sont des éléments clés à considérer pour interpréter les tendances du CA.\n"
   ]
  },
  {
   "cell_type": "markdown",
   "id": "d849e344",
   "metadata": {},
   "source": [
    "## II- Recommandations basées sur les résultats d'analyse"
   ]
  },
  {
   "cell_type": "markdown",
   "id": "0e9bd9b7",
   "metadata": {},
   "source": [
    "# Marché B to C\n",
    "\n",
    "## 1. Fidélisation et Engagement des Clients\n",
    "\n",
    "### 18-30 ans :\n",
    "- Mettre en place des **produits adaptés**, des **promotions personnalisées**, et des programmes de **fidélisation premium** avec des avantages exclusifs.\n",
    "- Organiser des **événements en ligne** ou des expériences digitales engageantes pour renforcer leur attachement à la marque et augmenter leur contribution au chiffre d’affaires.\n",
    " \n",
    "### 30-50 ans :\n",
    "- Introduire des **abonnements** ou des programmes de fidélité qui récompensent leur **régularité d’achat**, afin de maximiser leur engagement et de capitaliser sur leur stabilité.\n",
    "- Proposer des **offres promotionnelles régulières** et des packs adaptés à leurs **habitudes d’achat fréquentes**.\n",
    "\n",
    "### +50 ans :\n",
    "- Adapter l’offre en fonction de leurs **besoins spécifiques**, comme des produits de qualité, des conseils personnalisés, ou des services additionnels pour améliorer leur **expérience d’achat**.\n",
    "- Encourager des **achats plus fréquents** via des **offres spéciales** et des solutions adaptées aux habitudes de consommation de ce segment.\n",
    "\n",
    "## 2. Réduire l’Inégalité des Revenus\n",
    "- L’**indice de Gini** et la **courbe de Lorenz** montrent une concentration des revenus. Pour diversifier la base, cibler les nouveaux clients ou ceux peu actifs avec des **campagnes d’emailing** contenant des **offres exclusives** ou des **promotions limitées** dans le temps.\n",
    "- Développer activement le secteur **B2B** en proposant des **offres personnalisées** adaptées aux besoins des entreprises et en menant des **actions de prospection** pour élargir la clientèle B2B.\n",
    "\n",
    "## 3. Augmenter la Taille Moyenne du Panier\n",
    "- Introduire des **suggestions d’achats complémentaires** lors de la finalisation des commandes, ou proposer des **promotions groupées** incitant les clients à ajouter davantage d’articles à leur panier.\n",
    "- Mettre en place des **recommandations automatisées** basées sur l’historique d’achat pour personnaliser l’expérience d’achat et inciter les clients à augmenter la taille de leurs commandes.\n",
    "- Optimiser le **cross-selling** en offrant des produits de la **catégorie 1** comme compléments lors des achats, et développer des **bundles** et packagings attractifs pour les produits de la **catégorie 0**, favorisant ainsi les achats en volume.\n",
    "\n",
    "## 4. Optimisation des Saisons de Vente\n",
    "- Préparer des **offres spéciales** ou des collections exclusives bien à l’avance pour maximiser les périodes de **pics de vente** identifiées (par exemple, rentrée scolaire, Noël).\n",
    "- Adapter les **stocks** en fonction des **prévisions saisonnières** pour éviter les **ruptures de stock** et assurer une disponibilité continue des produits, maximisant ainsi les ventes durant ces périodes critiques.\n",
    "\n",
    "# Marché B to B\n",
    "\n",
    "## 1. Fidélisation des Clients Actuels :\n",
    "- Mettre en place des **programmes de fidélité** spécifiques avec des **réductions** sur le volume d’achat et des **services exclusifs**.\n",
    "- Renforcer les relations avec les **clients stratégiques**, comme **c_4958** et **c_1609**, via des **conditions préférentielles** et des **partenariats personnalisés**.\n",
    "\n",
    "## 2. Acquisition de Nouveaux Clients :\n",
    "- Lancer des **campagnes marketing** ciblées utilisant des témoignages et des références de clients actuels pour attirer de **nouvelles entreprises** similaires.\n",
    "- Proposer des **offres de bienvenue** et des **incitations sur volume** pour encourager les premières commandes et augmenter le volume d’achats.\n",
    "\n",
    "## 3. Optimisation de l’Offre :\n",
    "- Développer des **gammes de produits spécifiques** pour le B2B, incluant des packs et des abonnements adaptés aux besoins des entreprises.\n",
    "- Offrir des **options de personnalisation** et des **produits exclusifs** pour satisfaire les exigences des clients B2B.\n",
    "\n",
    "## 4. Amélioration de l’Expérience Client :\n",
    "- Développer une **plateforme en ligne** dédiée aux clients B2B, permettant de suivre les commandes, gérer les factures, et accéder à des supports personnalisés.\n",
    "- Proposer des **conditions de paiement flexibles** et des **livraisons prioritaires** pour fidéliser les clients réguliers.\n",
    "\n",
    "# Automatisation et Utilisation de l’Analyse Prédictive\n",
    "- Utiliser des outils d’**analyse prédictive** pour anticiper les besoins des clients en fonction de l’historique des transactions, permettant de personnaliser l’expérience utilisateur et d’optimiser les recommandations de produits.\n",
    "- Automatiser les **campagnes marketing** et les **recommandations de produits** via des **algorithmes de machine learning** pour rendre ces processus plus efficaces et augmenter l’engagement client.\n",
    "\n",
    "Ces actions visent à optimiser les ventes, diversifier les sources de revenus, et stabiliser la croissance à long terme en utilisant des **stratégies marketing ciblées**, une **automatisation avancée** et une **analyse approfondie** des comportements d’achat.\n"
   ]
  },
  {
   "cell_type": "code",
   "execution_count": null,
   "id": "e218823a",
   "metadata": {},
   "outputs": [],
   "source": []
  }
 ],
 "metadata": {
  "kernelspec": {
   "display_name": "Python 3 (ipykernel)",
   "language": "python",
   "name": "python3"
  },
  "language_info": {
   "codemirror_mode": {
    "name": "ipython",
    "version": 3
   },
   "file_extension": ".py",
   "mimetype": "text/x-python",
   "name": "python",
   "nbconvert_exporter": "python",
   "pygments_lexer": "ipython3",
   "version": "3.9.12"
  }
 },
 "nbformat": 4,
 "nbformat_minor": 5
}
